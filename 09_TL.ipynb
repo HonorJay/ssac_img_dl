{
 "cells": [
  {
   "cell_type": "markdown",
   "id": "55360089",
   "metadata": {},
   "source": [
    "# PreTrained"
   ]
  },
  {
   "cell_type": "code",
   "execution_count": 1,
   "id": "34dbbf8a",
   "metadata": {
    "ExecuteTime": {
     "end_time": "2021-12-09T02:23:20.807196Z",
     "start_time": "2021-12-09T02:23:19.066298Z"
    }
   },
   "outputs": [],
   "source": [
    "from tensorflow import keras"
   ]
  },
  {
   "cell_type": "code",
   "execution_count": 2,
   "id": "518c1117",
   "metadata": {
    "ExecuteTime": {
     "end_time": "2021-12-09T02:23:21.645722Z",
     "start_time": "2021-12-09T02:23:20.853500Z"
    }
   },
   "outputs": [],
   "source": [
    "vgg16_1 = keras.applications.VGG16(weights='imagenet', \n",
    "                                   include_top=False,\n",
    "                                   input_shape=(224,224,3))"
   ]
  },
  {
   "cell_type": "code",
   "execution_count": 3,
   "id": "e7d61aad",
   "metadata": {
    "ExecuteTime": {
     "end_time": "2021-12-09T02:23:21.718092Z",
     "start_time": "2021-12-09T02:23:21.703446Z"
    }
   },
   "outputs": [
    {
     "name": "stdout",
     "output_type": "stream",
     "text": [
      "Model: \"vgg16\"\n",
      "_________________________________________________________________\n",
      "Layer (type)                 Output Shape              Param #   \n",
      "=================================================================\n",
      "input_1 (InputLayer)         [(None, 224, 224, 3)]     0         \n",
      "_________________________________________________________________\n",
      "block1_conv1 (Conv2D)        (None, 224, 224, 64)      1792      \n",
      "_________________________________________________________________\n",
      "block1_conv2 (Conv2D)        (None, 224, 224, 64)      36928     \n",
      "_________________________________________________________________\n",
      "block1_pool (MaxPooling2D)   (None, 112, 112, 64)      0         \n",
      "_________________________________________________________________\n",
      "block2_conv1 (Conv2D)        (None, 112, 112, 128)     73856     \n",
      "_________________________________________________________________\n",
      "block2_conv2 (Conv2D)        (None, 112, 112, 128)     147584    \n",
      "_________________________________________________________________\n",
      "block2_pool (MaxPooling2D)   (None, 56, 56, 128)       0         \n",
      "_________________________________________________________________\n",
      "block3_conv1 (Conv2D)        (None, 56, 56, 256)       295168    \n",
      "_________________________________________________________________\n",
      "block3_conv2 (Conv2D)        (None, 56, 56, 256)       590080    \n",
      "_________________________________________________________________\n",
      "block3_conv3 (Conv2D)        (None, 56, 56, 256)       590080    \n",
      "_________________________________________________________________\n",
      "block3_pool (MaxPooling2D)   (None, 28, 28, 256)       0         \n",
      "_________________________________________________________________\n",
      "block4_conv1 (Conv2D)        (None, 28, 28, 512)       1180160   \n",
      "_________________________________________________________________\n",
      "block4_conv2 (Conv2D)        (None, 28, 28, 512)       2359808   \n",
      "_________________________________________________________________\n",
      "block4_conv3 (Conv2D)        (None, 28, 28, 512)       2359808   \n",
      "_________________________________________________________________\n",
      "block4_pool (MaxPooling2D)   (None, 14, 14, 512)       0         \n",
      "_________________________________________________________________\n",
      "block5_conv1 (Conv2D)        (None, 14, 14, 512)       2359808   \n",
      "_________________________________________________________________\n",
      "block5_conv2 (Conv2D)        (None, 14, 14, 512)       2359808   \n",
      "_________________________________________________________________\n",
      "block5_conv3 (Conv2D)        (None, 14, 14, 512)       2359808   \n",
      "_________________________________________________________________\n",
      "block5_pool (MaxPooling2D)   (None, 7, 7, 512)         0         \n",
      "=================================================================\n",
      "Total params: 14,714,688\n",
      "Trainable params: 14,714,688\n",
      "Non-trainable params: 0\n",
      "_________________________________________________________________\n"
     ]
    }
   ],
   "source": [
    "vgg16_1.summary()"
   ]
  },
  {
   "cell_type": "code",
   "execution_count": 4,
   "id": "0db09e2c",
   "metadata": {
    "ExecuteTime": {
     "end_time": "2021-12-09T02:23:23.033104Z",
     "start_time": "2021-12-09T02:23:21.765474Z"
    }
   },
   "outputs": [],
   "source": [
    "# 출력층이 Dense 레이어\n",
    "vgg16_2 = keras.applications.VGG16(weights='imagenet', \n",
    "                                   include_top=True,\n",
    "                                   input_shape=(224,224,3))"
   ]
  },
  {
   "cell_type": "code",
   "execution_count": 5,
   "id": "849173f1",
   "metadata": {
    "ExecuteTime": {
     "end_time": "2021-12-09T02:23:23.096212Z",
     "start_time": "2021-12-09T02:23:23.082231Z"
    }
   },
   "outputs": [
    {
     "name": "stdout",
     "output_type": "stream",
     "text": [
      "Model: \"vgg16\"\n",
      "_________________________________________________________________\n",
      "Layer (type)                 Output Shape              Param #   \n",
      "=================================================================\n",
      "input_2 (InputLayer)         [(None, 224, 224, 3)]     0         \n",
      "_________________________________________________________________\n",
      "block1_conv1 (Conv2D)        (None, 224, 224, 64)      1792      \n",
      "_________________________________________________________________\n",
      "block1_conv2 (Conv2D)        (None, 224, 224, 64)      36928     \n",
      "_________________________________________________________________\n",
      "block1_pool (MaxPooling2D)   (None, 112, 112, 64)      0         \n",
      "_________________________________________________________________\n",
      "block2_conv1 (Conv2D)        (None, 112, 112, 128)     73856     \n",
      "_________________________________________________________________\n",
      "block2_conv2 (Conv2D)        (None, 112, 112, 128)     147584    \n",
      "_________________________________________________________________\n",
      "block2_pool (MaxPooling2D)   (None, 56, 56, 128)       0         \n",
      "_________________________________________________________________\n",
      "block3_conv1 (Conv2D)        (None, 56, 56, 256)       295168    \n",
      "_________________________________________________________________\n",
      "block3_conv2 (Conv2D)        (None, 56, 56, 256)       590080    \n",
      "_________________________________________________________________\n",
      "block3_conv3 (Conv2D)        (None, 56, 56, 256)       590080    \n",
      "_________________________________________________________________\n",
      "block3_pool (MaxPooling2D)   (None, 28, 28, 256)       0         \n",
      "_________________________________________________________________\n",
      "block4_conv1 (Conv2D)        (None, 28, 28, 512)       1180160   \n",
      "_________________________________________________________________\n",
      "block4_conv2 (Conv2D)        (None, 28, 28, 512)       2359808   \n",
      "_________________________________________________________________\n",
      "block4_conv3 (Conv2D)        (None, 28, 28, 512)       2359808   \n",
      "_________________________________________________________________\n",
      "block4_pool (MaxPooling2D)   (None, 14, 14, 512)       0         \n",
      "_________________________________________________________________\n",
      "block5_conv1 (Conv2D)        (None, 14, 14, 512)       2359808   \n",
      "_________________________________________________________________\n",
      "block5_conv2 (Conv2D)        (None, 14, 14, 512)       2359808   \n",
      "_________________________________________________________________\n",
      "block5_conv3 (Conv2D)        (None, 14, 14, 512)       2359808   \n",
      "_________________________________________________________________\n",
      "block5_pool (MaxPooling2D)   (None, 7, 7, 512)         0         \n",
      "_________________________________________________________________\n",
      "flatten (Flatten)            (None, 25088)             0         \n",
      "_________________________________________________________________\n",
      "fc1 (Dense)                  (None, 4096)              102764544 \n",
      "_________________________________________________________________\n",
      "fc2 (Dense)                  (None, 4096)              16781312  \n",
      "_________________________________________________________________\n",
      "predictions (Dense)          (None, 1000)              4097000   \n",
      "=================================================================\n",
      "Total params: 138,357,544\n",
      "Trainable params: 138,357,544\n",
      "Non-trainable params: 0\n",
      "_________________________________________________________________\n"
     ]
    }
   ],
   "source": [
    "vgg16_2.summary()"
   ]
  },
  {
   "cell_type": "markdown",
   "id": "f0e8f38a",
   "metadata": {},
   "source": [
    "**pydotprint를 사용하려면 graphviz와 pydot 설치 필요**"
   ]
  },
  {
   "cell_type": "code",
   "execution_count": 9,
   "id": "92c0e099",
   "metadata": {
    "ExecuteTime": {
     "end_time": "2021-12-09T02:33:24.306451Z",
     "start_time": "2021-12-09T02:33:24.090777Z"
    },
    "scrolled": false
   },
   "outputs": [
    {
     "data": {
      "image/png": "[encoded data removed]",
      "text/plain": [
       "<IPython.core.display.Image object>"
      ]
     },
     "execution_count": 9,
     "metadata": {},
     "output_type": "execute_result"
    }
   ],
   "source": [
    "# import tensorflow.keras\n",
    "# tensorflow.keras.utils.plot_model(vgg16_2)\n",
    "\n",
    "from tensorflow import keras\n",
    "keras.utils.plot_model(vgg16_2)"
   ]
  },
  {
   "cell_type": "code",
   "execution_count": 7,
   "id": "8c5eb58a",
   "metadata": {
    "ExecuteTime": {
     "end_time": "2021-12-09T02:25:13.113092Z",
     "start_time": "2021-12-09T02:25:04.282107Z"
    }
   },
   "outputs": [
    {
     "name": "stdout",
     "output_type": "stream",
     "text": [
      "Downloading data from https://github.com/keras-team/keras-applications/releases/download/resnet/resnet50v2_weights_tf_dim_ordering_tf_kernels_notop.h5\n",
      "94674944/94668760 [==============================] - 6s 0us/step\n"
     ]
    }
   ],
   "source": [
    "resnet50 = applications.ResNet50V2(include_top=False, input_shape=(224,224,3))"
   ]
  },
  {
   "cell_type": "code",
   "execution_count": 8,
   "id": "ea4bec46",
   "metadata": {
    "ExecuteTime": {
     "end_time": "2021-12-09T02:25:42.725735Z",
     "start_time": "2021-12-09T02:25:42.697811Z"
    },
    "scrolled": true
   },
   "outputs": [
    {
     "name": "stdout",
     "output_type": "stream",
     "text": [
      "Model: \"resnet50v2\"\n",
      "__________________________________________________________________________________________________\n",
      "Layer (type)                    Output Shape         Param #     Connected to                     \n",
      "==================================================================================================\n",
      "input_3 (InputLayer)            [(None, 224, 224, 3) 0                                            \n",
      "__________________________________________________________________________________________________\n",
      "conv1_pad (ZeroPadding2D)       (None, 230, 230, 3)  0           input_3[0][0]                    \n",
      "__________________________________________________________________________________________________\n",
      "conv1_conv (Conv2D)             (None, 112, 112, 64) 9472        conv1_pad[0][0]                  \n",
      "__________________________________________________________________________________________________\n",
      "pool1_pad (ZeroPadding2D)       (None, 114, 114, 64) 0           conv1_conv[0][0]                 \n",
      "__________________________________________________________________________________________________\n",
      "pool1_pool (MaxPooling2D)       (None, 56, 56, 64)   0           pool1_pad[0][0]                  \n",
      "__________________________________________________________________________________________________\n",
      "conv2_block1_preact_bn (BatchNo (None, 56, 56, 64)   256         pool1_pool[0][0]                 \n",
      "__________________________________________________________________________________________________\n",
      "conv2_block1_preact_relu (Activ (None, 56, 56, 64)   0           conv2_block1_preact_bn[0][0]     \n",
      "__________________________________________________________________________________________________\n",
      "conv2_block1_1_conv (Conv2D)    (None, 56, 56, 64)   4096        conv2_block1_preact_relu[0][0]   \n",
      "__________________________________________________________________________________________________\n",
      "conv2_block1_1_bn (BatchNormali (None, 56, 56, 64)   256         conv2_block1_1_conv[0][0]        \n",
      "__________________________________________________________________________________________________\n",
      "conv2_block1_1_relu (Activation (None, 56, 56, 64)   0           conv2_block1_1_bn[0][0]          \n",
      "__________________________________________________________________________________________________\n",
      "conv2_block1_2_pad (ZeroPadding (None, 58, 58, 64)   0           conv2_block1_1_relu[0][0]        \n",
      "__________________________________________________________________________________________________\n",
      "conv2_block1_2_conv (Conv2D)    (None, 56, 56, 64)   36864       conv2_block1_2_pad[0][0]         \n",
      "__________________________________________________________________________________________________\n",
      "conv2_block1_2_bn (BatchNormali (None, 56, 56, 64)   256         conv2_block1_2_conv[0][0]        \n",
      "__________________________________________________________________________________________________\n",
      "conv2_block1_2_relu (Activation (None, 56, 56, 64)   0           conv2_block1_2_bn[0][0]          \n",
      "__________________________________________________________________________________________________\n",
      "conv2_block1_0_conv (Conv2D)    (None, 56, 56, 256)  16640       conv2_block1_preact_relu[0][0]   \n",
      "__________________________________________________________________________________________________\n",
      "conv2_block1_3_conv (Conv2D)    (None, 56, 56, 256)  16640       conv2_block1_2_relu[0][0]        \n",
      "__________________________________________________________________________________________________\n",
      "conv2_block1_out (Add)          (None, 56, 56, 256)  0           conv2_block1_0_conv[0][0]        \n",
      "                                                                 conv2_block1_3_conv[0][0]        \n",
      "__________________________________________________________________________________________________\n",
      "conv2_block2_preact_bn (BatchNo (None, 56, 56, 256)  1024        conv2_block1_out[0][0]           \n",
      "__________________________________________________________________________________________________\n",
      "conv2_block2_preact_relu (Activ (None, 56, 56, 256)  0           conv2_block2_preact_bn[0][0]     \n",
      "__________________________________________________________________________________________________\n",
      "conv2_block2_1_conv (Conv2D)    (None, 56, 56, 64)   16384       conv2_block2_preact_relu[0][0]   \n",
      "__________________________________________________________________________________________________\n",
      "conv2_block2_1_bn (BatchNormali (None, 56, 56, 64)   256         conv2_block2_1_conv[0][0]        \n",
      "__________________________________________________________________________________________________\n",
      "conv2_block2_1_relu (Activation (None, 56, 56, 64)   0           conv2_block2_1_bn[0][0]          \n",
      "__________________________________________________________________________________________________\n",
      "conv2_block2_2_pad (ZeroPadding (None, 58, 58, 64)   0           conv2_block2_1_relu[0][0]        \n",
      "__________________________________________________________________________________________________\n",
      "conv2_block2_2_conv (Conv2D)    (None, 56, 56, 64)   36864       conv2_block2_2_pad[0][0]         \n",
      "__________________________________________________________________________________________________\n",
      "conv2_block2_2_bn (BatchNormali (None, 56, 56, 64)   256         conv2_block2_2_conv[0][0]        \n",
      "__________________________________________________________________________________________________\n",
      "conv2_block2_2_relu (Activation (None, 56, 56, 64)   0           conv2_block2_2_bn[0][0]          \n",
      "__________________________________________________________________________________________________\n",
      "conv2_block2_3_conv (Conv2D)    (None, 56, 56, 256)  16640       conv2_block2_2_relu[0][0]        \n",
      "__________________________________________________________________________________________________\n",
      "conv2_block2_out (Add)          (None, 56, 56, 256)  0           conv2_block1_out[0][0]           \n",
      "                                                                 conv2_block2_3_conv[0][0]        \n",
      "__________________________________________________________________________________________________\n",
      "conv2_block3_preact_bn (BatchNo (None, 56, 56, 256)  1024        conv2_block2_out[0][0]           \n",
      "__________________________________________________________________________________________________\n",
      "conv2_block3_preact_relu (Activ (None, 56, 56, 256)  0           conv2_block3_preact_bn[0][0]     \n",
      "__________________________________________________________________________________________________\n",
      "conv2_block3_1_conv (Conv2D)    (None, 56, 56, 64)   16384       conv2_block3_preact_relu[0][0]   \n",
      "__________________________________________________________________________________________________\n",
      "conv2_block3_1_bn (BatchNormali (None, 56, 56, 64)   256         conv2_block3_1_conv[0][0]        \n",
      "__________________________________________________________________________________________________\n",
      "conv2_block3_1_relu (Activation (None, 56, 56, 64)   0           conv2_block3_1_bn[0][0]          \n",
      "__________________________________________________________________________________________________\n",
      "conv2_block3_2_pad (ZeroPadding (None, 58, 58, 64)   0           conv2_block3_1_relu[0][0]        \n",
      "__________________________________________________________________________________________________\n",
      "conv2_block3_2_conv (Conv2D)    (None, 28, 28, 64)   36864       conv2_block3_2_pad[0][0]         \n",
      "__________________________________________________________________________________________________\n",
      "conv2_block3_2_bn (BatchNormali (None, 28, 28, 64)   256         conv2_block3_2_conv[0][0]        \n",
      "__________________________________________________________________________________________________\n",
      "conv2_block3_2_relu (Activation (None, 28, 28, 64)   0           conv2_block3_2_bn[0][0]          \n",
      "__________________________________________________________________________________________________\n",
      "max_pooling2d (MaxPooling2D)    (None, 28, 28, 256)  0           conv2_block2_out[0][0]           \n",
      "__________________________________________________________________________________________________\n",
      "conv2_block3_3_conv (Conv2D)    (None, 28, 28, 256)  16640       conv2_block3_2_relu[0][0]        \n",
      "__________________________________________________________________________________________________\n",
      "conv2_block3_out (Add)          (None, 28, 28, 256)  0           max_pooling2d[0][0]              \n",
      "                                                                 conv2_block3_3_conv[0][0]        \n",
      "__________________________________________________________________________________________________\n",
      "conv3_block1_preact_bn (BatchNo (None, 28, 28, 256)  1024        conv2_block3_out[0][0]           \n",
      "__________________________________________________________________________________________________\n",
      "conv3_block1_preact_relu (Activ (None, 28, 28, 256)  0           conv3_block1_preact_bn[0][0]     \n",
      "__________________________________________________________________________________________________\n",
      "conv3_block1_1_conv (Conv2D)    (None, 28, 28, 128)  32768       conv3_block1_preact_relu[0][0]   \n",
      "__________________________________________________________________________________________________\n",
      "conv3_block1_1_bn (BatchNormali (None, 28, 28, 128)  512         conv3_block1_1_conv[0][0]        \n",
      "__________________________________________________________________________________________________\n",
      "conv3_block1_1_relu (Activation (None, 28, 28, 128)  0           conv3_block1_1_bn[0][0]          \n",
      "__________________________________________________________________________________________________\n",
      "conv3_block1_2_pad (ZeroPadding (None, 30, 30, 128)  0           conv3_block1_1_relu[0][0]        \n",
      "__________________________________________________________________________________________________\n",
      "conv3_block1_2_conv (Conv2D)    (None, 28, 28, 128)  147456      conv3_block1_2_pad[0][0]         \n",
      "__________________________________________________________________________________________________\n",
      "conv3_block1_2_bn (BatchNormali (None, 28, 28, 128)  512         conv3_block1_2_conv[0][0]        \n",
      "__________________________________________________________________________________________________\n",
      "conv3_block1_2_relu (Activation (None, 28, 28, 128)  0           conv3_block1_2_bn[0][0]          \n",
      "__________________________________________________________________________________________________\n",
      "conv3_block1_0_conv (Conv2D)    (None, 28, 28, 512)  131584      conv3_block1_preact_relu[0][0]   \n",
      "__________________________________________________________________________________________________\n",
      "conv3_block1_3_conv (Conv2D)    (None, 28, 28, 512)  66048       conv3_block1_2_relu[0][0]        \n",
      "__________________________________________________________________________________________________\n",
      "conv3_block1_out (Add)          (None, 28, 28, 512)  0           conv3_block1_0_conv[0][0]        \n",
      "                                                                 conv3_block1_3_conv[0][0]        \n",
      "__________________________________________________________________________________________________\n",
      "conv3_block2_preact_bn (BatchNo (None, 28, 28, 512)  2048        conv3_block1_out[0][0]           \n",
      "__________________________________________________________________________________________________\n",
      "conv3_block2_preact_relu (Activ (None, 28, 28, 512)  0           conv3_block2_preact_bn[0][0]     \n",
      "__________________________________________________________________________________________________\n",
      "conv3_block2_1_conv (Conv2D)    (None, 28, 28, 128)  65536       conv3_block2_preact_relu[0][0]   \n",
      "__________________________________________________________________________________________________\n",
      "conv3_block2_1_bn (BatchNormali (None, 28, 28, 128)  512         conv3_block2_1_conv[0][0]        \n",
      "__________________________________________________________________________________________________\n",
      "conv3_block2_1_relu (Activation (None, 28, 28, 128)  0           conv3_block2_1_bn[0][0]          \n",
      "__________________________________________________________________________________________________\n",
      "conv3_block2_2_pad (ZeroPadding (None, 30, 30, 128)  0           conv3_block2_1_relu[0][0]        \n",
      "__________________________________________________________________________________________________\n",
      "conv3_block2_2_conv (Conv2D)    (None, 28, 28, 128)  147456      conv3_block2_2_pad[0][0]         \n",
      "__________________________________________________________________________________________________\n",
      "conv3_block2_2_bn (BatchNormali (None, 28, 28, 128)  512         conv3_block2_2_conv[0][0]        \n",
      "__________________________________________________________________________________________________\n",
      "conv3_block2_2_relu (Activation (None, 28, 28, 128)  0           conv3_block2_2_bn[0][0]          \n",
      "__________________________________________________________________________________________________\n",
      "conv3_block2_3_conv (Conv2D)    (None, 28, 28, 512)  66048       conv3_block2_2_relu[0][0]        \n",
      "__________________________________________________________________________________________________\n",
      "conv3_block2_out (Add)          (None, 28, 28, 512)  0           conv3_block1_out[0][0]           \n",
      "                                                                 conv3_block2_3_conv[0][0]        \n",
      "__________________________________________________________________________________________________\n",
      "conv3_block3_preact_bn (BatchNo (None, 28, 28, 512)  2048        conv3_block2_out[0][0]           \n",
      "__________________________________________________________________________________________________\n",
      "conv3_block3_preact_relu (Activ (None, 28, 28, 512)  0           conv3_block3_preact_bn[0][0]     \n",
      "__________________________________________________________________________________________________\n",
      "conv3_block3_1_conv (Conv2D)    (None, 28, 28, 128)  65536       conv3_block3_preact_relu[0][0]   \n",
      "__________________________________________________________________________________________________\n",
      "conv3_block3_1_bn (BatchNormali (None, 28, 28, 128)  512         conv3_block3_1_conv[0][0]        \n",
      "__________________________________________________________________________________________________\n",
      "conv3_block3_1_relu (Activation (None, 28, 28, 128)  0           conv3_block3_1_bn[0][0]          \n",
      "__________________________________________________________________________________________________\n",
      "conv3_block3_2_pad (ZeroPadding (None, 30, 30, 128)  0           conv3_block3_1_relu[0][0]        \n",
      "__________________________________________________________________________________________________\n",
      "conv3_block3_2_conv (Conv2D)    (None, 28, 28, 128)  147456      conv3_block3_2_pad[0][0]         \n",
      "__________________________________________________________________________________________________\n",
      "conv3_block3_2_bn (BatchNormali (None, 28, 28, 128)  512         conv3_block3_2_conv[0][0]        \n",
      "__________________________________________________________________________________________________\n",
      "conv3_block3_2_relu (Activation (None, 28, 28, 128)  0           conv3_block3_2_bn[0][0]          \n",
      "__________________________________________________________________________________________________\n",
      "conv3_block3_3_conv (Conv2D)    (None, 28, 28, 512)  66048       conv3_block3_2_relu[0][0]        \n",
      "__________________________________________________________________________________________________\n",
      "conv3_block3_out (Add)          (None, 28, 28, 512)  0           conv3_block2_out[0][0]           \n",
      "                                                                 conv3_block3_3_conv[0][0]        \n",
      "__________________________________________________________________________________________________\n",
      "conv3_block4_preact_bn (BatchNo (None, 28, 28, 512)  2048        conv3_block3_out[0][0]           \n",
      "__________________________________________________________________________________________________\n",
      "conv3_block4_preact_relu (Activ (None, 28, 28, 512)  0           conv3_block4_preact_bn[0][0]     \n",
      "__________________________________________________________________________________________________\n",
      "conv3_block4_1_conv (Conv2D)    (None, 28, 28, 128)  65536       conv3_block4_preact_relu[0][0]   \n",
      "__________________________________________________________________________________________________\n",
      "conv3_block4_1_bn (BatchNormali (None, 28, 28, 128)  512         conv3_block4_1_conv[0][0]        \n",
      "__________________________________________________________________________________________________\n",
      "conv3_block4_1_relu (Activation (None, 28, 28, 128)  0           conv3_block4_1_bn[0][0]          \n",
      "__________________________________________________________________________________________________\n",
      "conv3_block4_2_pad (ZeroPadding (None, 30, 30, 128)  0           conv3_block4_1_relu[0][0]        \n",
      "__________________________________________________________________________________________________\n",
      "conv3_block4_2_conv (Conv2D)    (None, 14, 14, 128)  147456      conv3_block4_2_pad[0][0]         \n",
      "__________________________________________________________________________________________________\n",
      "conv3_block4_2_bn (BatchNormali (None, 14, 14, 128)  512         conv3_block4_2_conv[0][0]        \n",
      "__________________________________________________________________________________________________\n",
      "conv3_block4_2_relu (Activation (None, 14, 14, 128)  0           conv3_block4_2_bn[0][0]          \n",
      "__________________________________________________________________________________________________\n",
      "max_pooling2d_1 (MaxPooling2D)  (None, 14, 14, 512)  0           conv3_block3_out[0][0]           \n",
      "__________________________________________________________________________________________________\n",
      "conv3_block4_3_conv (Conv2D)    (None, 14, 14, 512)  66048       conv3_block4_2_relu[0][0]        \n",
      "__________________________________________________________________________________________________\n",
      "conv3_block4_out (Add)          (None, 14, 14, 512)  0           max_pooling2d_1[0][0]            \n",
      "                                                                 conv3_block4_3_conv[0][0]        \n",
      "__________________________________________________________________________________________________\n",
      "conv4_block1_preact_bn (BatchNo (None, 14, 14, 512)  2048        conv3_block4_out[0][0]           \n",
      "__________________________________________________________________________________________________\n",
      "conv4_block1_preact_relu (Activ (None, 14, 14, 512)  0           conv4_block1_preact_bn[0][0]     \n",
      "__________________________________________________________________________________________________\n",
      "conv4_block1_1_conv (Conv2D)    (None, 14, 14, 256)  131072      conv4_block1_preact_relu[0][0]   \n",
      "__________________________________________________________________________________________________\n",
      "conv4_block1_1_bn (BatchNormali (None, 14, 14, 256)  1024        conv4_block1_1_conv[0][0]        \n",
      "__________________________________________________________________________________________________\n",
      "conv4_block1_1_relu (Activation (None, 14, 14, 256)  0           conv4_block1_1_bn[0][0]          \n",
      "__________________________________________________________________________________________________\n",
      "conv4_block1_2_pad (ZeroPadding (None, 16, 16, 256)  0           conv4_block1_1_relu[0][0]        \n",
      "__________________________________________________________________________________________________\n",
      "conv4_block1_2_conv (Conv2D)    (None, 14, 14, 256)  589824      conv4_block1_2_pad[0][0]         \n",
      "__________________________________________________________________________________________________\n",
      "conv4_block1_2_bn (BatchNormali (None, 14, 14, 256)  1024        conv4_block1_2_conv[0][0]        \n",
      "__________________________________________________________________________________________________\n",
      "conv4_block1_2_relu (Activation (None, 14, 14, 256)  0           conv4_block1_2_bn[0][0]          \n",
      "__________________________________________________________________________________________________\n",
      "conv4_block1_0_conv (Conv2D)    (None, 14, 14, 1024) 525312      conv4_block1_preact_relu[0][0]   \n",
      "__________________________________________________________________________________________________\n",
      "conv4_block1_3_conv (Conv2D)    (None, 14, 14, 1024) 263168      conv4_block1_2_relu[0][0]        \n",
      "__________________________________________________________________________________________________\n",
      "conv4_block1_out (Add)          (None, 14, 14, 1024) 0           conv4_block1_0_conv[0][0]        \n",
      "                                                                 conv4_block1_3_conv[0][0]        \n",
      "__________________________________________________________________________________________________\n",
      "conv4_block2_preact_bn (BatchNo (None, 14, 14, 1024) 4096        conv4_block1_out[0][0]           \n",
      "__________________________________________________________________________________________________\n",
      "conv4_block2_preact_relu (Activ (None, 14, 14, 1024) 0           conv4_block2_preact_bn[0][0]     \n",
      "__________________________________________________________________________________________________\n",
      "conv4_block2_1_conv (Conv2D)    (None, 14, 14, 256)  262144      conv4_block2_preact_relu[0][0]   \n",
      "__________________________________________________________________________________________________\n",
      "conv4_block2_1_bn (BatchNormali (None, 14, 14, 256)  1024        conv4_block2_1_conv[0][0]        \n",
      "__________________________________________________________________________________________________\n",
      "conv4_block2_1_relu (Activation (None, 14, 14, 256)  0           conv4_block2_1_bn[0][0]          \n",
      "__________________________________________________________________________________________________\n",
      "conv4_block2_2_pad (ZeroPadding (None, 16, 16, 256)  0           conv4_block2_1_relu[0][0]        \n",
      "__________________________________________________________________________________________________\n",
      "conv4_block2_2_conv (Conv2D)    (None, 14, 14, 256)  589824      conv4_block2_2_pad[0][0]         \n",
      "__________________________________________________________________________________________________\n",
      "conv4_block2_2_bn (BatchNormali (None, 14, 14, 256)  1024        conv4_block2_2_conv[0][0]        \n",
      "__________________________________________________________________________________________________\n",
      "conv4_block2_2_relu (Activation (None, 14, 14, 256)  0           conv4_block2_2_bn[0][0]          \n",
      "__________________________________________________________________________________________________\n",
      "conv4_block2_3_conv (Conv2D)    (None, 14, 14, 1024) 263168      conv4_block2_2_relu[0][0]        \n",
      "__________________________________________________________________________________________________\n",
      "conv4_block2_out (Add)          (None, 14, 14, 1024) 0           conv4_block1_out[0][0]           \n",
      "                                                                 conv4_block2_3_conv[0][0]        \n",
      "__________________________________________________________________________________________________\n",
      "conv4_block3_preact_bn (BatchNo (None, 14, 14, 1024) 4096        conv4_block2_out[0][0]           \n",
      "__________________________________________________________________________________________________\n",
      "conv4_block3_preact_relu (Activ (None, 14, 14, 1024) 0           conv4_block3_preact_bn[0][0]     \n",
      "__________________________________________________________________________________________________\n",
      "conv4_block3_1_conv (Conv2D)    (None, 14, 14, 256)  262144      conv4_block3_preact_relu[0][0]   \n",
      "__________________________________________________________________________________________________\n",
      "conv4_block3_1_bn (BatchNormali (None, 14, 14, 256)  1024        conv4_block3_1_conv[0][0]        \n",
      "__________________________________________________________________________________________________\n",
      "conv4_block3_1_relu (Activation (None, 14, 14, 256)  0           conv4_block3_1_bn[0][0]          \n",
      "__________________________________________________________________________________________________\n",
      "conv4_block3_2_pad (ZeroPadding (None, 16, 16, 256)  0           conv4_block3_1_relu[0][0]        \n",
      "__________________________________________________________________________________________________\n",
      "conv4_block3_2_conv (Conv2D)    (None, 14, 14, 256)  589824      conv4_block3_2_pad[0][0]         \n",
      "__________________________________________________________________________________________________\n",
      "conv4_block3_2_bn (BatchNormali (None, 14, 14, 256)  1024        conv4_block3_2_conv[0][0]        \n",
      "__________________________________________________________________________________________________\n",
      "conv4_block3_2_relu (Activation (None, 14, 14, 256)  0           conv4_block3_2_bn[0][0]          \n",
      "__________________________________________________________________________________________________\n",
      "conv4_block3_3_conv (Conv2D)    (None, 14, 14, 1024) 263168      conv4_block3_2_relu[0][0]        \n",
      "__________________________________________________________________________________________________\n",
      "conv4_block3_out (Add)          (None, 14, 14, 1024) 0           conv4_block2_out[0][0]           \n",
      "                                                                 conv4_block3_3_conv[0][0]        \n",
      "__________________________________________________________________________________________________\n",
      "conv4_block4_preact_bn (BatchNo (None, 14, 14, 1024) 4096        conv4_block3_out[0][0]           \n",
      "__________________________________________________________________________________________________\n",
      "conv4_block4_preact_relu (Activ (None, 14, 14, 1024) 0           conv4_block4_preact_bn[0][0]     \n",
      "__________________________________________________________________________________________________\n",
      "conv4_block4_1_conv (Conv2D)    (None, 14, 14, 256)  262144      conv4_block4_preact_relu[0][0]   \n",
      "__________________________________________________________________________________________________\n",
      "conv4_block4_1_bn (BatchNormali (None, 14, 14, 256)  1024        conv4_block4_1_conv[0][0]        \n",
      "__________________________________________________________________________________________________\n",
      "conv4_block4_1_relu (Activation (None, 14, 14, 256)  0           conv4_block4_1_bn[0][0]          \n",
      "__________________________________________________________________________________________________\n",
      "conv4_block4_2_pad (ZeroPadding (None, 16, 16, 256)  0           conv4_block4_1_relu[0][0]        \n",
      "__________________________________________________________________________________________________\n",
      "conv4_block4_2_conv (Conv2D)    (None, 14, 14, 256)  589824      conv4_block4_2_pad[0][0]         \n",
      "__________________________________________________________________________________________________\n",
      "conv4_block4_2_bn (BatchNormali (None, 14, 14, 256)  1024        conv4_block4_2_conv[0][0]        \n",
      "__________________________________________________________________________________________________\n",
      "conv4_block4_2_relu (Activation (None, 14, 14, 256)  0           conv4_block4_2_bn[0][0]          \n",
      "__________________________________________________________________________________________________\n",
      "conv4_block4_3_conv (Conv2D)    (None, 14, 14, 1024) 263168      conv4_block4_2_relu[0][0]        \n",
      "__________________________________________________________________________________________________\n",
      "conv4_block4_out (Add)          (None, 14, 14, 1024) 0           conv4_block3_out[0][0]           \n",
      "                                                                 conv4_block4_3_conv[0][0]        \n",
      "__________________________________________________________________________________________________\n",
      "conv4_block5_preact_bn (BatchNo (None, 14, 14, 1024) 4096        conv4_block4_out[0][0]           \n",
      "__________________________________________________________________________________________________\n",
      "conv4_block5_preact_relu (Activ (None, 14, 14, 1024) 0           conv4_block5_preact_bn[0][0]     \n",
      "__________________________________________________________________________________________________\n",
      "conv4_block5_1_conv (Conv2D)    (None, 14, 14, 256)  262144      conv4_block5_preact_relu[0][0]   \n",
      "__________________________________________________________________________________________________\n",
      "conv4_block5_1_bn (BatchNormali (None, 14, 14, 256)  1024        conv4_block5_1_conv[0][0]        \n",
      "__________________________________________________________________________________________________\n",
      "conv4_block5_1_relu (Activation (None, 14, 14, 256)  0           conv4_block5_1_bn[0][0]          \n",
      "__________________________________________________________________________________________________\n",
      "conv4_block5_2_pad (ZeroPadding (None, 16, 16, 256)  0           conv4_block5_1_relu[0][0]        \n",
      "__________________________________________________________________________________________________\n",
      "conv4_block5_2_conv (Conv2D)    (None, 14, 14, 256)  589824      conv4_block5_2_pad[0][0]         \n",
      "__________________________________________________________________________________________________\n",
      "conv4_block5_2_bn (BatchNormali (None, 14, 14, 256)  1024        conv4_block5_2_conv[0][0]        \n",
      "__________________________________________________________________________________________________\n",
      "conv4_block5_2_relu (Activation (None, 14, 14, 256)  0           conv4_block5_2_bn[0][0]          \n",
      "__________________________________________________________________________________________________\n",
      "conv4_block5_3_conv (Conv2D)    (None, 14, 14, 1024) 263168      conv4_block5_2_relu[0][0]        \n",
      "__________________________________________________________________________________________________\n",
      "conv4_block5_out (Add)          (None, 14, 14, 1024) 0           conv4_block4_out[0][0]           \n",
      "                                                                 conv4_block5_3_conv[0][0]        \n",
      "__________________________________________________________________________________________________\n",
      "conv4_block6_preact_bn (BatchNo (None, 14, 14, 1024) 4096        conv4_block5_out[0][0]           \n",
      "__________________________________________________________________________________________________\n",
      "conv4_block6_preact_relu (Activ (None, 14, 14, 1024) 0           conv4_block6_preact_bn[0][0]     \n",
      "__________________________________________________________________________________________________\n",
      "conv4_block6_1_conv (Conv2D)    (None, 14, 14, 256)  262144      conv4_block6_preact_relu[0][0]   \n",
      "__________________________________________________________________________________________________\n",
      "conv4_block6_1_bn (BatchNormali (None, 14, 14, 256)  1024        conv4_block6_1_conv[0][0]        \n",
      "__________________________________________________________________________________________________\n",
      "conv4_block6_1_relu (Activation (None, 14, 14, 256)  0           conv4_block6_1_bn[0][0]          \n",
      "__________________________________________________________________________________________________\n",
      "conv4_block6_2_pad (ZeroPadding (None, 16, 16, 256)  0           conv4_block6_1_relu[0][0]        \n",
      "__________________________________________________________________________________________________\n",
      "conv4_block6_2_conv (Conv2D)    (None, 7, 7, 256)    589824      conv4_block6_2_pad[0][0]         \n",
      "__________________________________________________________________________________________________\n",
      "conv4_block6_2_bn (BatchNormali (None, 7, 7, 256)    1024        conv4_block6_2_conv[0][0]        \n",
      "__________________________________________________________________________________________________\n",
      "conv4_block6_2_relu (Activation (None, 7, 7, 256)    0           conv4_block6_2_bn[0][0]          \n",
      "__________________________________________________________________________________________________\n",
      "max_pooling2d_2 (MaxPooling2D)  (None, 7, 7, 1024)   0           conv4_block5_out[0][0]           \n",
      "__________________________________________________________________________________________________\n",
      "conv4_block6_3_conv (Conv2D)    (None, 7, 7, 1024)   263168      conv4_block6_2_relu[0][0]        \n",
      "__________________________________________________________________________________________________\n",
      "conv4_block6_out (Add)          (None, 7, 7, 1024)   0           max_pooling2d_2[0][0]            \n",
      "                                                                 conv4_block6_3_conv[0][0]        \n",
      "__________________________________________________________________________________________________\n",
      "conv5_block1_preact_bn (BatchNo (None, 7, 7, 1024)   4096        conv4_block6_out[0][0]           \n",
      "__________________________________________________________________________________________________\n",
      "conv5_block1_preact_relu (Activ (None, 7, 7, 1024)   0           conv5_block1_preact_bn[0][0]     \n",
      "__________________________________________________________________________________________________\n",
      "conv5_block1_1_conv (Conv2D)    (None, 7, 7, 512)    524288      conv5_block1_preact_relu[0][0]   \n",
      "__________________________________________________________________________________________________\n",
      "conv5_block1_1_bn (BatchNormali (None, 7, 7, 512)    2048        conv5_block1_1_conv[0][0]        \n",
      "__________________________________________________________________________________________________\n",
      "conv5_block1_1_relu (Activation (None, 7, 7, 512)    0           conv5_block1_1_bn[0][0]          \n",
      "__________________________________________________________________________________________________\n",
      "conv5_block1_2_pad (ZeroPadding (None, 9, 9, 512)    0           conv5_block1_1_relu[0][0]        \n",
      "__________________________________________________________________________________________________\n",
      "conv5_block1_2_conv (Conv2D)    (None, 7, 7, 512)    2359296     conv5_block1_2_pad[0][0]         \n",
      "__________________________________________________________________________________________________\n",
      "conv5_block1_2_bn (BatchNormali (None, 7, 7, 512)    2048        conv5_block1_2_conv[0][0]        \n",
      "__________________________________________________________________________________________________\n",
      "conv5_block1_2_relu (Activation (None, 7, 7, 512)    0           conv5_block1_2_bn[0][0]          \n",
      "__________________________________________________________________________________________________\n",
      "conv5_block1_0_conv (Conv2D)    (None, 7, 7, 2048)   2099200     conv5_block1_preact_relu[0][0]   \n",
      "__________________________________________________________________________________________________\n",
      "conv5_block1_3_conv (Conv2D)    (None, 7, 7, 2048)   1050624     conv5_block1_2_relu[0][0]        \n",
      "__________________________________________________________________________________________________\n",
      "conv5_block1_out (Add)          (None, 7, 7, 2048)   0           conv5_block1_0_conv[0][0]        \n",
      "                                                                 conv5_block1_3_conv[0][0]        \n",
      "__________________________________________________________________________________________________\n",
      "conv5_block2_preact_bn (BatchNo (None, 7, 7, 2048)   8192        conv5_block1_out[0][0]           \n",
      "__________________________________________________________________________________________________\n",
      "conv5_block2_preact_relu (Activ (None, 7, 7, 2048)   0           conv5_block2_preact_bn[0][0]     \n",
      "__________________________________________________________________________________________________\n",
      "conv5_block2_1_conv (Conv2D)    (None, 7, 7, 512)    1048576     conv5_block2_preact_relu[0][0]   \n",
      "__________________________________________________________________________________________________\n",
      "conv5_block2_1_bn (BatchNormali (None, 7, 7, 512)    2048        conv5_block2_1_conv[0][0]        \n",
      "__________________________________________________________________________________________________\n",
      "conv5_block2_1_relu (Activation (None, 7, 7, 512)    0           conv5_block2_1_bn[0][0]          \n",
      "__________________________________________________________________________________________________\n",
      "conv5_block2_2_pad (ZeroPadding (None, 9, 9, 512)    0           conv5_block2_1_relu[0][0]        \n",
      "__________________________________________________________________________________________________\n",
      "conv5_block2_2_conv (Conv2D)    (None, 7, 7, 512)    2359296     conv5_block2_2_pad[0][0]         \n",
      "__________________________________________________________________________________________________\n",
      "conv5_block2_2_bn (BatchNormali (None, 7, 7, 512)    2048        conv5_block2_2_conv[0][0]        \n",
      "__________________________________________________________________________________________________\n",
      "conv5_block2_2_relu (Activation (None, 7, 7, 512)    0           conv5_block2_2_bn[0][0]          \n",
      "__________________________________________________________________________________________________\n",
      "conv5_block2_3_conv (Conv2D)    (None, 7, 7, 2048)   1050624     conv5_block2_2_relu[0][0]        \n",
      "__________________________________________________________________________________________________\n",
      "conv5_block2_out (Add)          (None, 7, 7, 2048)   0           conv5_block1_out[0][0]           \n",
      "                                                                 conv5_block2_3_conv[0][0]        \n",
      "__________________________________________________________________________________________________\n",
      "conv5_block3_preact_bn (BatchNo (None, 7, 7, 2048)   8192        conv5_block2_out[0][0]           \n",
      "__________________________________________________________________________________________________\n",
      "conv5_block3_preact_relu (Activ (None, 7, 7, 2048)   0           conv5_block3_preact_bn[0][0]     \n",
      "__________________________________________________________________________________________________\n",
      "conv5_block3_1_conv (Conv2D)    (None, 7, 7, 512)    1048576     conv5_block3_preact_relu[0][0]   \n",
      "__________________________________________________________________________________________________\n",
      "conv5_block3_1_bn (BatchNormali (None, 7, 7, 512)    2048        conv5_block3_1_conv[0][0]        \n",
      "__________________________________________________________________________________________________\n",
      "conv5_block3_1_relu (Activation (None, 7, 7, 512)    0           conv5_block3_1_bn[0][0]          \n",
      "__________________________________________________________________________________________________\n",
      "conv5_block3_2_pad (ZeroPadding (None, 9, 9, 512)    0           conv5_block3_1_relu[0][0]        \n",
      "__________________________________________________________________________________________________\n",
      "conv5_block3_2_conv (Conv2D)    (None, 7, 7, 512)    2359296     conv5_block3_2_pad[0][0]         \n",
      "__________________________________________________________________________________________________\n",
      "conv5_block3_2_bn (BatchNormali (None, 7, 7, 512)    2048        conv5_block3_2_conv[0][0]        \n",
      "__________________________________________________________________________________________________\n",
      "conv5_block3_2_relu (Activation (None, 7, 7, 512)    0           conv5_block3_2_bn[0][0]          \n",
      "__________________________________________________________________________________________________\n",
      "conv5_block3_3_conv (Conv2D)    (None, 7, 7, 2048)   1050624     conv5_block3_2_relu[0][0]        \n",
      "__________________________________________________________________________________________________\n",
      "conv5_block3_out (Add)          (None, 7, 7, 2048)   0           conv5_block2_out[0][0]           \n",
      "                                                                 conv5_block3_3_conv[0][0]        \n",
      "__________________________________________________________________________________________________\n",
      "post_bn (BatchNormalization)    (None, 7, 7, 2048)   8192        conv5_block3_out[0][0]           \n",
      "__________________________________________________________________________________________________\n",
      "post_relu (Activation)          (None, 7, 7, 2048)   0           post_bn[0][0]                    \n",
      "==================================================================================================\n",
      "Total params: 23,564,800\n",
      "Trainable params: 23,519,360\n",
      "Non-trainable params: 45,440\n",
      "__________________________________________________________________________________________________\n"
     ]
    }
   ],
   "source": [
    "resnet50.summary()"
   ]
  },
  {
   "cell_type": "markdown",
   "id": "dacace49",
   "metadata": {},
   "source": [
    "#### classfication with pretrained model named 'VGG16'  "
   ]
  },
  {
   "cell_type": "code",
   "execution_count": 10,
   "id": "3a0b9121",
   "metadata": {
    "ExecuteTime": {
     "end_time": "2021-12-09T02:35:08.077286Z",
     "start_time": "2021-12-09T02:35:08.056313Z"
    }
   },
   "outputs": [],
   "source": [
    "import tensorflow as tf\n",
    "from tensorflow import keras\n",
    "from tensorflow.keras.preprocessing.image import load_img, img_to_array\n",
    "\n",
    "import numpy as np"
   ]
  },
  {
   "cell_type": "code",
   "execution_count": 11,
   "id": "dbdbd9ac",
   "metadata": {
    "ExecuteTime": {
     "end_time": "2021-12-09T02:35:13.712206Z",
     "start_time": "2021-12-09T02:35:12.392347Z"
    }
   },
   "outputs": [
    {
     "name": "stdout",
     "output_type": "stream",
     "text": [
      "Model: \"vgg16\"\n",
      "_________________________________________________________________\n",
      "Layer (type)                 Output Shape              Param #   \n",
      "=================================================================\n",
      "input_4 (InputLayer)         [(None, 224, 224, 3)]     0         \n",
      "_________________________________________________________________\n",
      "block1_conv1 (Conv2D)        (None, 224, 224, 64)      1792      \n",
      "_________________________________________________________________\n",
      "block1_conv2 (Conv2D)        (None, 224, 224, 64)      36928     \n",
      "_________________________________________________________________\n",
      "block1_pool (MaxPooling2D)   (None, 112, 112, 64)      0         \n",
      "_________________________________________________________________\n",
      "block2_conv1 (Conv2D)        (None, 112, 112, 128)     73856     \n",
      "_________________________________________________________________\n",
      "block2_conv2 (Conv2D)        (None, 112, 112, 128)     147584    \n",
      "_________________________________________________________________\n",
      "block2_pool (MaxPooling2D)   (None, 56, 56, 128)       0         \n",
      "_________________________________________________________________\n",
      "block3_conv1 (Conv2D)        (None, 56, 56, 256)       295168    \n",
      "_________________________________________________________________\n",
      "block3_conv2 (Conv2D)        (None, 56, 56, 256)       590080    \n",
      "_________________________________________________________________\n",
      "block3_conv3 (Conv2D)        (None, 56, 56, 256)       590080    \n",
      "_________________________________________________________________\n",
      "block3_pool (MaxPooling2D)   (None, 28, 28, 256)       0         \n",
      "_________________________________________________________________\n",
      "block4_conv1 (Conv2D)        (None, 28, 28, 512)       1180160   \n",
      "_________________________________________________________________\n",
      "block4_conv2 (Conv2D)        (None, 28, 28, 512)       2359808   \n",
      "_________________________________________________________________\n",
      "block4_conv3 (Conv2D)        (None, 28, 28, 512)       2359808   \n",
      "_________________________________________________________________\n",
      "block4_pool (MaxPooling2D)   (None, 14, 14, 512)       0         \n",
      "_________________________________________________________________\n",
      "block5_conv1 (Conv2D)        (None, 14, 14, 512)       2359808   \n",
      "_________________________________________________________________\n",
      "block5_conv2 (Conv2D)        (None, 14, 14, 512)       2359808   \n",
      "_________________________________________________________________\n",
      "block5_conv3 (Conv2D)        (None, 14, 14, 512)       2359808   \n",
      "_________________________________________________________________\n",
      "block5_pool (MaxPooling2D)   (None, 7, 7, 512)         0         \n",
      "_________________________________________________________________\n",
      "flatten (Flatten)            (None, 25088)             0         \n",
      "_________________________________________________________________\n",
      "fc1 (Dense)                  (None, 4096)              102764544 \n",
      "_________________________________________________________________\n",
      "fc2 (Dense)                  (None, 4096)              16781312  \n",
      "_________________________________________________________________\n",
      "predictions (Dense)          (None, 1000)              4097000   \n",
      "=================================================================\n",
      "Total params: 138,357,544\n",
      "Trainable params: 138,357,544\n",
      "Non-trainable params: 0\n",
      "_________________________________________________________________\n"
     ]
    }
   ],
   "source": [
    "# default : (weights='imagenet', include_top=True, input_shape=(224,224,3))\n",
    "vgg16 = keras.applications.VGG16()\n",
    "vgg16.summary()"
   ]
  },
  {
   "cell_type": "code",
   "execution_count": 26,
   "id": "93d60d98",
   "metadata": {
    "ExecuteTime": {
     "end_time": "2021-12-09T02:55:14.481390Z",
     "start_time": "2021-12-09T02:55:14.455461Z"
    }
   },
   "outputs": [
    {
     "name": "stdout",
     "output_type": "stream",
     "text": [
      "ERROR! Session/line number was not unique in database. History logging moved to new session 269\n"
     ]
    },
    {
     "data": {
      "text/plain": [
       "(224, 224, 3)"
      ]
     },
     "execution_count": 26,
     "metadata": {},
     "output_type": "execute_result"
    }
   ],
   "source": [
    "# img_path = 'test_img/car.jpg'\n",
    "img_path = 'test_img/bicycle.jpg'\n",
    "\n",
    "img = load_img(img_path, target_size=(224, 224))\n",
    "img_np = img_to_array(img)\n",
    "img_np.shape"
   ]
  },
  {
   "cell_type": "code",
   "execution_count": 27,
   "id": "f1ba4301",
   "metadata": {
    "ExecuteTime": {
     "end_time": "2021-12-09T02:55:17.316182Z",
     "start_time": "2021-12-09T02:55:17.302191Z"
    }
   },
   "outputs": [
    {
     "data": {
      "text/plain": [
       "(0.0, 255.0)"
      ]
     },
     "execution_count": 27,
     "metadata": {},
     "output_type": "execute_result"
    }
   ],
   "source": [
    "np.min(img_np), np.max(img_np)"
   ]
  },
  {
   "cell_type": "code",
   "execution_count": 28,
   "id": "85826b39",
   "metadata": {
    "ExecuteTime": {
     "end_time": "2021-12-09T02:55:17.844921Z",
     "start_time": "2021-12-09T02:55:17.830936Z"
    }
   },
   "outputs": [
    {
     "data": {
      "text/plain": [
       "(224, 224, 3)"
      ]
     },
     "execution_count": 28,
     "metadata": {},
     "output_type": "execute_result"
    }
   ],
   "source": [
    "# 전처리도 모듈 내 함수(; preprocess_input)로 제공해 줌 \n",
    "input_tensor = keras.applications.vgg16.preprocess_input(img_np)\n",
    "input_tensor.shape"
   ]
  },
  {
   "cell_type": "code",
   "execution_count": 29,
   "id": "b7f5e987",
   "metadata": {
    "ExecuteTime": {
     "end_time": "2021-12-09T02:55:18.516231Z",
     "start_time": "2021-12-09T02:55:18.503237Z"
    }
   },
   "outputs": [
    {
     "data": {
      "text/plain": [
       "(-123.68, 151.061)"
      ]
     },
     "execution_count": 29,
     "metadata": {},
     "output_type": "execute_result"
    }
   ],
   "source": [
    "np.min(input_tensor), np.max(input_tensor)"
   ]
  },
  {
   "cell_type": "code",
   "execution_count": 30,
   "id": "71ef6862",
   "metadata": {
    "ExecuteTime": {
     "end_time": "2021-12-09T02:55:19.088703Z",
     "start_time": "2021-12-09T02:55:19.014279Z"
    }
   },
   "outputs": [],
   "source": [
    "pred = vgg16.predict(input_tensor[np.newaxis, ...])"
   ]
  },
  {
   "cell_type": "code",
   "execution_count": 31,
   "id": "9aa1007c",
   "metadata": {
    "ExecuteTime": {
     "end_time": "2021-12-09T02:55:19.653137Z",
     "start_time": "2021-12-09T02:55:19.639140Z"
    }
   },
   "outputs": [
    {
     "name": "stdout",
     "output_type": "stream",
     "text": [
      "label num: 671\n",
      "1. mountain_bike (0.9594511389732361)\n",
      "2. unicycle (0.015243805944919586)\n",
      "3. crash_helmet (0.007174015045166016)\n"
     ]
    }
   ],
   "source": [
    "from keras.applications.imagenet_utils import decode_predictions\n",
    "\n",
    "label = np.argmax(pred, axis=-1)\n",
    "label_class = decode_predictions(pred, top=3)\n",
    "\n",
    "print(\"label num:\", label[0])\n",
    "for idx, lc in enumerate(label_class[0], start=1):\n",
    "    print(f'{idx}. {lc[1]} ({lc[2]})')"
   ]
  },
  {
   "cell_type": "code",
   "execution_count": 32,
   "id": "76fbf563",
   "metadata": {
    "ExecuteTime": {
     "end_time": "2021-12-09T02:55:22.440320Z",
     "start_time": "2021-12-09T02:55:22.423374Z"
    }
   },
   "outputs": [
    {
     "data": {
      "image/png": "[encoded data removed]",
      "text/plain": [
       "<PIL.Image.Image image mode=RGB size=224x224 at 0x2EB8070CA48>"
      ]
     },
     "execution_count": 32,
     "metadata": {},
     "output_type": "execute_result"
    }
   ],
   "source": [
    "img"
   ]
  },
  {
   "cell_type": "markdown",
   "id": "6c519b55",
   "metadata": {},
   "source": [
    "# Transfer learning"
   ]
  },
  {
   "cell_type": "markdown",
   "id": "dd89cfe4",
   "metadata": {},
   "source": [
    "## 데이터 다운"
   ]
  },
  {
   "cell_type": "code",
   "execution_count": 33,
   "id": "ca3f75e9",
   "metadata": {
    "ExecuteTime": {
     "end_time": "2021-12-09T05:12:53.025243Z",
     "start_time": "2021-12-09T05:12:53.014289Z"
    }
   },
   "outputs": [],
   "source": [
    "from google_drive_downloader import GoogleDriveDownloader as gdd\n",
    "\n",
    "gdd.download_file_from_google_drive(file_id='1nBE3N2cXQGwD8JaD0JZ2LmFD-n3D5hVU',\n",
    "                                    dest_path='./data/cats_and_dogs_small.zip',\n",
    "                                    unzip=True)"
   ]
  },
  {
   "cell_type": "markdown",
   "id": "0b347b37",
   "metadata": {},
   "source": [
    "## import"
   ]
  },
  {
   "cell_type": "code",
   "execution_count": 1,
   "id": "d138be47",
   "metadata": {
    "ExecuteTime": {
     "end_time": "2021-12-09T06:15:50.979570Z",
     "start_time": "2021-12-09T06:15:47.295410Z"
    }
   },
   "outputs": [],
   "source": [
    "import tensorflow as tf\n",
    "from tensorflow import keras\n",
    "from tensorflow.keras import layers\n",
    "from tensorflow.keras import applications\n",
    "from tensorflow.keras.preprocessing.image import ImageDataGenerator, load_img, img_to_array\n",
    "\n",
    "import numpy as np\n",
    "\n",
    "np.random.seed(0)\n",
    "tf.random.set_seed(0)"
   ]
  },
  {
   "cell_type": "markdown",
   "id": "cdcb42b6",
   "metadata": {},
   "source": [
    "## 파라미터"
   ]
  },
  {
   "cell_type": "code",
   "execution_count": 2,
   "id": "db3673ea",
   "metadata": {
    "ExecuteTime": {
     "end_time": "2021-12-09T06:15:51.088558Z",
     "start_time": "2021-12-09T06:15:51.077169Z"
    }
   },
   "outputs": [],
   "source": [
    "LEARNING_RATE = 0.001\n",
    "N_EPOCHS = 20\n",
    "N_BATCHS = 100\n",
    "\n",
    "IMAGE_SIZE = 224"
   ]
  },
  {
   "cell_type": "markdown",
   "id": "92383318",
   "metadata": {},
   "source": [
    "## Util함수 정의"
   ]
  },
  {
   "cell_type": "markdown",
   "id": "23f68257",
   "metadata": {},
   "source": [
    "### 추론함수"
   ]
  },
  {
   "cell_type": "code",
   "execution_count": 24,
   "id": "829f0395",
   "metadata": {
    "ExecuteTime": {
     "end_time": "2021-12-09T07:40:17.917936Z",
     "start_time": "2021-12-09T07:40:17.905997Z"
    }
   },
   "outputs": [
    {
     "name": "stdout",
     "output_type": "stream",
     "text": [
      "ERROR! Session/line number was not unique in database. History logging moved to new session 290\n"
     ]
    }
   ],
   "source": [
    "def predict_cat_dog(img_path, model, preprocess_input):\n",
    "    \"\"\"\n",
    "    이미지를 받아서 모델을 이용해 추론 후 결과를 반환하는 함수\n",
    "    [파라미터]\n",
    "        img_path: str - 분류(추론)할 이미지 경로\n",
    "        model: 학습된 모델 객체\n",
    "        preprocess_input: 이미지 전처리 함수\n",
    "    [반환값]\n",
    "        tuple: (예측확률, 예측라벨 index, 예측라벨명)\n",
    "    \"\"\"\n",
    "    class_names = ['Cat', 'Dog']\n",
    "    img = load_img(img_path, target_size=(IMAGE_SIZE, IMAGE_SIZE))\n",
    "    img_np = img_to_array(img)\n",
    "    img_np = img_np[np.newaxis, ...]\n",
    "    \n",
    "    input_tensor = preprocess_input(img_np)\n",
    "        \n",
    "    pred = model.predict(input_tensor)[0][0]\n",
    "    pred_class = int(np.where(pred<=0.5, 0, 1))\n",
    "    pred_label = class_names[pred_class]\n",
    "    \n",
    "    return pred, pred_class, pred_label"
   ]
  },
  {
   "cell_type": "markdown",
   "id": "4420cbd9",
   "metadata": {},
   "source": [
    "### ImageDataGenerator "
   ]
  },
  {
   "cell_type": "code",
   "execution_count": 25,
   "id": "fc7f718a",
   "metadata": {
    "ExecuteTime": {
     "end_time": "2021-12-09T07:40:19.787680Z",
     "start_time": "2021-12-09T07:40:19.777737Z"
    }
   },
   "outputs": [],
   "source": [
    "def get_generator(preprocess_input):\n",
    "    \"\"\"\n",
    "    train/validation/test 용 ImageDataGenerator 생성해서 반환하는 함수\n",
    "    [파라미터]\n",
    "        preprocess_input: 전처리 함수\n",
    "    [반환값]\n",
    "        tuple: (train iter, validation iter, test iter)\n",
    "    \"\"\"\n",
    "    train_dir = \"data/train/\"\n",
    "    val_dir = 'data/validation/'\n",
    "    test_dir = 'data/test'\n",
    "    \n",
    "    train_datagen = ImageDataGenerator(preprocessing_function=preprocess_input, \n",
    "                                       rotation_range=40, \n",
    "                                       brightness_range=[0.7, 1.3], \n",
    "                                       zoom_range=0.2, \n",
    "                                       horizontal_flip=True, \n",
    "                                       width_shift_range=0.2, \n",
    "                                       height_shift_range=0.2, \n",
    "                                       fill_mode='constant')\n",
    "    val_datagen = ImageDataGenerator(preprocessing_function=preprocess_input)\n",
    "    test_datagen = ImageDataGenerator(preprocessing_function=preprocess_input)\n",
    "    \n",
    "    \n",
    "    train_iter = train_datagen.flow_from_directory(train_dir, target_size=(IMAGE_SIZE, IMAGE_SIZE), batch_size=N_BATCHS, class_mode='binary')\n",
    "    val_iter = val_datagen.flow_from_directory(val_dir, target_size=(IMAGE_SIZE, IMAGE_SIZE), batch_size=N_BATCHS, class_mode='binary')\n",
    "    test_iter = test_datagen.flow_from_directory(test_dir, target_size=(IMAGE_SIZE, IMAGE_SIZE), batch_size=N_BATCHS, class_mode='binary')\n",
    "    \n",
    "    return train_iter, val_iter, test_iter"
   ]
  },
  {
   "cell_type": "markdown",
   "id": "0dd70dd0",
   "metadata": {},
   "source": [
    "## 데이터셋 로드"
   ]
  },
  {
   "cell_type": "code",
   "execution_count": 26,
   "id": "33879c94",
   "metadata": {
    "ExecuteTime": {
     "end_time": "2021-12-09T07:40:21.390809Z",
     "start_time": "2021-12-09T07:40:21.025640Z"
    }
   },
   "outputs": [
    {
     "name": "stdout",
     "output_type": "stream",
     "text": [
      "Found 2000 images belonging to 2 classes.\n",
      "Found 1000 images belonging to 2 classes.\n",
      "Found 1000 images belonging to 2 classes.\n"
     ]
    }
   ],
   "source": [
    "train_iter, val_iter, test_iter = get_generator(keras.applications.vgg16.preprocess_input)"
   ]
  },
  {
   "cell_type": "code",
   "execution_count": 6,
   "id": "abab1578",
   "metadata": {
    "ExecuteTime": {
     "end_time": "2021-12-09T06:15:56.235932Z",
     "start_time": "2021-12-09T06:15:56.222968Z"
    }
   },
   "outputs": [],
   "source": [
    "def create_model1(backbone):\n",
    "    \"\"\"\n",
    "    Feature Exctractor 모델을 받아서 개/고양이 분류 모델을 만들어 반환\n",
    "    [Parameter]\n",
    "        backbone: Feature Exctractor\n",
    "    [Return]\n",
    "        model\n",
    "    \"\"\"\n",
    "    model = keras.Sequential()\n",
    "    \n",
    "    # Frozen; weights(parameter) of layers what compose backbone arn't updated while model fit \n",
    "    backbone.trainable = False # must do before compile     \n",
    "    \n",
    "    model.add(backbone)\n",
    "    \n",
    "    model.add(layers.GlobalAveragePooling2D()) # use GAP instead of 'Flatten()'\n",
    "    model.add(layers.Dense(units=1, activation='sigmoid'))\n",
    "    \n",
    "    return model"
   ]
  },
  {
   "cell_type": "code",
   "execution_count": 7,
   "id": "539b548d",
   "metadata": {
    "ExecuteTime": {
     "end_time": "2021-12-09T06:15:58.684072Z",
     "start_time": "2021-12-09T06:15:57.695244Z"
    }
   },
   "outputs": [],
   "source": [
    "backbone = applications.VGG16(include_top=False, \n",
    "                              input_shape=(IMAGE_SIZE, IMAGE_SIZE, 3))\n",
    "\n",
    "model1 = create_model1(backbone)\n",
    "\n",
    "model1.compile(optimizer=keras.optimizers.Adam(LEARNING_RATE), \n",
    "               loss='binary_crossentropy', \n",
    "               metrics=['accuracy'])"
   ]
  },
  {
   "cell_type": "code",
   "execution_count": 8,
   "id": "0f7b60af",
   "metadata": {
    "ExecuteTime": {
     "end_time": "2021-12-09T06:15:59.477674Z",
     "start_time": "2021-12-09T06:15:59.470693Z"
    }
   },
   "outputs": [
    {
     "name": "stdout",
     "output_type": "stream",
     "text": [
      "Model: \"sequential\"\n",
      "_________________________________________________________________\n",
      "Layer (type)                 Output Shape              Param #   \n",
      "=================================================================\n",
      "vgg16 (Model)                (None, 7, 7, 512)         14714688  \n",
      "_________________________________________________________________\n",
      "global_average_pooling2d (Gl (None, 512)               0         \n",
      "_________________________________________________________________\n",
      "dense (Dense)                (None, 1)                 513       \n",
      "=================================================================\n",
      "Total params: 14,715,201\n",
      "Trainable params: 513\n",
      "Non-trainable params: 14,714,688\n",
      "_________________________________________________________________\n"
     ]
    }
   ],
   "source": [
    "model1.summary()"
   ]
  },
  {
   "cell_type": "code",
   "execution_count": 9,
   "id": "4dc57695",
   "metadata": {
    "ExecuteTime": {
     "end_time": "2021-12-09T06:16:01.739810Z",
     "start_time": "2021-12-09T06:16:01.503822Z"
    }
   },
   "outputs": [
    {
     "data": {
      "image/png": "[encoded data removed]",
      "text/plain": [
       "<IPython.core.display.Image object>"
      ]
     },
     "execution_count": 9,
     "metadata": {},
     "output_type": "execute_result"
    }
   ],
   "source": [
    "keras.utils.plot_model(model1, show_shapes=True)"
   ]
  },
  {
   "cell_type": "code",
   "execution_count": 10,
   "id": "d44cc706",
   "metadata": {
    "ExecuteTime": {
     "end_time": "2021-12-09T06:25:04.257688Z",
     "start_time": "2021-12-09T06:16:10.719710Z"
    }
   },
   "outputs": [
    {
     "name": "stdout",
     "output_type": "stream",
     "text": [
      "WARNING:tensorflow:sample_weight modes were coerced from\n",
      "  ...\n",
      "    to  \n",
      "  ['...']\n",
      "WARNING:tensorflow:sample_weight modes were coerced from\n",
      "  ...\n",
      "    to  \n",
      "  ['...']\n",
      "Train for 20 steps, validate for 10 steps\n",
      "Epoch 1/20\n",
      "20/20 [==============================] - 34s 2s/step - loss: 1.3315 - accuracy: 0.6195 - val_loss: 1.1406 - val_accuracy: 0.6980\n",
      "Epoch 2/20\n",
      "20/20 [==============================] - 27s 1s/step - loss: 0.6029 - accuracy: 0.8045 - val_loss: 0.4737 - val_accuracy: 0.8530\n",
      "Epoch 3/20\n",
      "20/20 [==============================] - 26s 1s/step - loss: 0.3709 - accuracy: 0.8770 - val_loss: 0.3794 - val_accuracy: 0.8830\n",
      "Epoch 4/20\n",
      "20/20 [==============================] - 26s 1s/step - loss: 0.2897 - accuracy: 0.8960 - val_loss: 0.2656 - val_accuracy: 0.9200\n",
      "Epoch 5/20\n",
      "20/20 [==============================] - 26s 1s/step - loss: 0.2535 - accuracy: 0.9020 - val_loss: 0.2170 - val_accuracy: 0.9330\n",
      "Epoch 6/20\n",
      "20/20 [==============================] - 26s 1s/step - loss: 0.1945 - accuracy: 0.9290 - val_loss: 0.2184 - val_accuracy: 0.9360\n",
      "Epoch 7/20\n",
      "20/20 [==============================] - 26s 1s/step - loss: 0.1871 - accuracy: 0.9315 - val_loss: 0.2536 - val_accuracy: 0.9220\n",
      "Epoch 8/20\n",
      "20/20 [==============================] - 26s 1s/step - loss: 0.1670 - accuracy: 0.9425 - val_loss: 0.1881 - val_accuracy: 0.9400\n",
      "Epoch 9/20\n",
      "20/20 [==============================] - 26s 1s/step - loss: 0.1675 - accuracy: 0.9350 - val_loss: 0.1750 - val_accuracy: 0.9450\n",
      "Epoch 10/20\n",
      "20/20 [==============================] - 26s 1s/step - loss: 0.1421 - accuracy: 0.9420 - val_loss: 0.1803 - val_accuracy: 0.9440\n",
      "Epoch 11/20\n",
      "20/20 [==============================] - 26s 1s/step - loss: 0.1532 - accuracy: 0.9475 - val_loss: 0.1529 - val_accuracy: 0.9550\n",
      "Epoch 12/20\n",
      "20/20 [==============================] - 26s 1s/step - loss: 0.1412 - accuracy: 0.9485 - val_loss: 0.1494 - val_accuracy: 0.9540\n",
      "Epoch 13/20\n",
      "20/20 [==============================] - 27s 1s/step - loss: 0.1295 - accuracy: 0.9535 - val_loss: 0.1720 - val_accuracy: 0.9500\n",
      "Epoch 14/20\n",
      "20/20 [==============================] - 26s 1s/step - loss: 0.1188 - accuracy: 0.9520 - val_loss: 0.1226 - val_accuracy: 0.9660\n",
      "Epoch 15/20\n",
      "20/20 [==============================] - 26s 1s/step - loss: 0.1229 - accuracy: 0.9540 - val_loss: 0.1259 - val_accuracy: 0.9610\n",
      "Epoch 16/20\n",
      "20/20 [==============================] - 27s 1s/step - loss: 0.1188 - accuracy: 0.9595 - val_loss: 0.1195 - val_accuracy: 0.9660\n",
      "Epoch 17/20\n",
      "20/20 [==============================] - 26s 1s/step - loss: 0.1071 - accuracy: 0.9580 - val_loss: 0.1352 - val_accuracy: 0.9570\n",
      "Epoch 18/20\n",
      "20/20 [==============================] - 26s 1s/step - loss: 0.1035 - accuracy: 0.9585 - val_loss: 0.1211 - val_accuracy: 0.9630\n",
      "Epoch 19/20\n",
      "20/20 [==============================] - 27s 1s/step - loss: 0.0883 - accuracy: 0.9625 - val_loss: 0.1340 - val_accuracy: 0.9580\n",
      "Epoch 20/20\n",
      "20/20 [==============================] - 26s 1s/step - loss: 0.0961 - accuracy: 0.9605 - val_loss: 0.1133 - val_accuracy: 0.9670\n"
     ]
    }
   ],
   "source": [
    "with tf.device('/gpu:0'):\n",
    "    hist = model1.fit(train_iter, epochs=N_EPOCHS, \n",
    "                       steps_per_epoch=len(train_iter), \n",
    "                       validation_data=val_iter,\n",
    "                       validation_steps=len(val_iter))"
   ]
  },
  {
   "cell_type": "markdown",
   "id": "2b5fc872",
   "metadata": {
    "ExecuteTime": {
     "end_time": "2021-12-09T06:14:50.655635Z",
     "start_time": "2021-12-09T06:14:50.543742Z"
    }
   },
   "source": [
    "### 트러블 슈팅\n",
    "**※ GPU 사용시 OoM 문제 해결**\n",
    "\n",
    "1. !nvidia-smi 명령어를 통해 현재 사용 중인 GPU 메모리 확인\n",
    "2. 불필요한 프로그램 및 창들 종료 후 커널 리스타트.\n",
    "3. 재실행 후에도 안될 경우\n",
    "    - with tf.device(): 를 통해 사용할 디바이스 강제 지정\n",
    "    - 현재 컴퓨터에 사용가능한 디바이스는 '/cpu:0', '/gpu:0' 두가지 뿐.\n",
    "    - 현재 컴퓨터의 환경은 gtx1650으로 메모리가 4gb뿐이라 쉽게 OoM메세지 출력\n",
    "    - 따라서 속도는 느리지만 cpu 사용해서 해결\n",
    "    - 번외) 코랩의 경우 gpu 사용시 메모리 약 11gb 제공"
   ]
  },
  {
   "cell_type": "code",
   "execution_count": 11,
   "id": "d3fd8d72",
   "metadata": {
    "ExecuteTime": {
     "end_time": "2021-12-09T06:27:51.209818Z",
     "start_time": "2021-12-09T06:27:42.702588Z"
    }
   },
   "outputs": [
    {
     "name": "stdout",
     "output_type": "stream",
     "text": [
      "WARNING:tensorflow:sample_weight modes were coerced from\n",
      "  ...\n",
      "    to  \n",
      "  ['...']\n",
      "10/10 [==============================] - 8s 816ms/step - loss: 0.1083 - accuracy: 0.9770\n"
     ]
    },
    {
     "data": {
      "text/plain": [
       "[0.10832990482449531, 0.977]"
      ]
     },
     "execution_count": 11,
     "metadata": {},
     "output_type": "execute_result"
    }
   ],
   "source": [
    "model1.evaluate(test_iter)"
   ]
  },
  {
   "cell_type": "code",
   "execution_count": 12,
   "id": "2c2c31e2",
   "metadata": {
    "ExecuteTime": {
     "end_time": "2021-12-09T06:28:05.392671Z",
     "start_time": "2021-12-09T06:28:03.950506Z"
    }
   },
   "outputs": [
    {
     "name": "stdout",
     "output_type": "stream",
     "text": [
      "ERROR! Session/line number was not unique in database. History logging moved to new session 283\n"
     ]
    },
    {
     "data": {
      "text/plain": [
       "(2.305285e-13, 0, 'Cat')"
      ]
     },
     "execution_count": 12,
     "metadata": {},
     "output_type": "execute_result"
    }
   ],
   "source": [
    "predict_cat_dog('./test_img/cat.jpg', model1, applications.vgg16.preprocess_input) "
   ]
  },
  {
   "cell_type": "code",
   "execution_count": 13,
   "id": "782e2c76",
   "metadata": {
    "ExecuteTime": {
     "end_time": "2021-12-09T06:28:10.579760Z",
     "start_time": "2021-12-09T06:28:10.525606Z"
    }
   },
   "outputs": [
    {
     "data": {
      "text/plain": [
       "(1.0, 1, 'Dog')"
      ]
     },
     "execution_count": 13,
     "metadata": {},
     "output_type": "execute_result"
    }
   ],
   "source": [
    "predict_cat_dog('./test_img/dog.jpg', model1, applications.vgg16.preprocess_input)"
   ]
  },
  {
   "cell_type": "markdown",
   "id": "3dfbaaf2",
   "metadata": {},
   "source": [
    "# fine tuning"
   ]
  },
  {
   "cell_type": "code",
   "execution_count": 2,
   "id": "083a0537",
   "metadata": {
    "ExecuteTime": {
     "end_time": "2021-12-09T07:11:18.518123Z",
     "start_time": "2021-12-09T07:11:09.025307Z"
    }
   },
   "outputs": [],
   "source": [
    "import tensorflow as tf\n",
    "from tensorflow import keras\n",
    "from tensorflow.keras import layers\n",
    "\n",
    "test_model = keras.Sequential()\n",
    "test_model.add(layers.Conv2D(filters=32, kernel_size=3,  padding='same', activation='relu', input_shape=(28,28,1)))\n",
    "test_model.add(layers.MaxPooling2D(padding='same'))\n",
    "\n",
    "test_model.add(layers.Conv2D(filters=32, kernel_size=3, padding='same', activation='relu'))\n",
    "test_model.add(layers.MaxPooling2D(padding='same'))\n",
    "\n",
    "test_model.add(layers.Flatten())\n",
    "test_model.add(layers.Dense(units=128, activation='relu'))\n",
    "test_model.add(layers.Dense(units=1, activation='sigmoid', name='output'))\n"
   ]
  },
  {
   "cell_type": "code",
   "execution_count": 3,
   "id": "e4472a3f",
   "metadata": {
    "ExecuteTime": {
     "end_time": "2021-12-09T07:11:19.647514Z",
     "start_time": "2021-12-09T07:11:19.633556Z"
    }
   },
   "outputs": [
    {
     "name": "stdout",
     "output_type": "stream",
     "text": [
      "Model: \"sequential\"\n",
      "_________________________________________________________________\n",
      "Layer (type)                 Output Shape              Param #   \n",
      "=================================================================\n",
      "conv2d (Conv2D)              (None, 28, 28, 32)        320       \n",
      "_________________________________________________________________\n",
      "max_pooling2d (MaxPooling2D) (None, 14, 14, 32)        0         \n",
      "_________________________________________________________________\n",
      "conv2d_1 (Conv2D)            (None, 14, 14, 32)        9248      \n",
      "_________________________________________________________________\n",
      "max_pooling2d_1 (MaxPooling2 (None, 7, 7, 32)          0         \n",
      "_________________________________________________________________\n",
      "flatten (Flatten)            (None, 1568)              0         \n",
      "_________________________________________________________________\n",
      "dense (Dense)                (None, 128)               200832    \n",
      "_________________________________________________________________\n",
      "output (Dense)               (None, 1)                 129       \n",
      "=================================================================\n",
      "Total params: 210,529\n",
      "Trainable params: 210,529\n",
      "Non-trainable params: 0\n",
      "_________________________________________________________________\n"
     ]
    }
   ],
   "source": [
    "test_model.summary()"
   ]
  },
  {
   "cell_type": "code",
   "execution_count": 4,
   "id": "dedab584",
   "metadata": {
    "ExecuteTime": {
     "end_time": "2021-12-09T07:11:24.525435Z",
     "start_time": "2021-12-09T07:11:24.512442Z"
    }
   },
   "outputs": [
    {
     "name": "stdout",
     "output_type": "stream",
     "text": [
      "<class 'list'> 7\n"
     ]
    }
   ],
   "source": [
    "test_layers = test_model.layers\n",
    "print(type(test_layers), len(test_layers))"
   ]
  },
  {
   "cell_type": "code",
   "execution_count": 5,
   "id": "b4e9c0a8",
   "metadata": {
    "ExecuteTime": {
     "end_time": "2021-12-09T07:11:32.895701Z",
     "start_time": "2021-12-09T07:11:32.880739Z"
    }
   },
   "outputs": [
    {
     "data": {
      "text/plain": [
       "(<tensorflow.python.keras.layers.convolutional.Conv2D at 0x23bcf565d88>,\n",
       " <tensorflow.python.keras.layers.pooling.MaxPooling2D at 0x23bd65dab08>,\n",
       " <tensorflow.python.keras.layers.core.Dense at 0x23bd6897d88>,\n",
       " <tensorflow.python.keras.layers.core.Flatten at 0x23bd68aaa88>)"
      ]
     },
     "execution_count": 5,
     "metadata": {},
     "output_type": "execute_result"
    }
   ],
   "source": [
    "test_layers[0], test_layers[1], test_layers[6], test_layers[4]"
   ]
  },
  {
   "cell_type": "code",
   "execution_count": 6,
   "id": "6702e928",
   "metadata": {
    "ExecuteTime": {
     "end_time": "2021-12-09T07:12:21.962813Z",
     "start_time": "2021-12-09T07:12:21.952834Z"
    }
   },
   "outputs": [
    {
     "data": {
      "text/plain": [
       "('conv2d', 'output')"
      ]
     },
     "execution_count": 6,
     "metadata": {},
     "output_type": "execute_result"
    }
   ],
   "source": [
    "test_layers[0].name, test_layers[6].name"
   ]
  },
  {
   "cell_type": "code",
   "execution_count": 7,
   "id": "2b1fcbc0",
   "metadata": {
    "ExecuteTime": {
     "end_time": "2021-12-09T07:15:06.601014Z",
     "start_time": "2021-12-09T07:15:06.594033Z"
    }
   },
   "outputs": [
    {
     "data": {
      "text/plain": [
       "<tensorflow.python.keras.layers.core.Dense at 0x23bd6897d88>"
      ]
     },
     "execution_count": 7,
     "metadata": {},
     "output_type": "execute_result"
    }
   ],
   "source": [
    "output_layer = test_model.get_layer(\"output\")\n",
    "output_layer"
   ]
  },
  {
   "cell_type": "code",
   "execution_count": 8,
   "id": "a350d7f2",
   "metadata": {
    "ExecuteTime": {
     "end_time": "2021-12-09T07:15:10.587382Z",
     "start_time": "2021-12-09T07:15:10.576409Z"
    }
   },
   "outputs": [
    {
     "data": {
      "text/plain": [
       "<tensorflow.python.keras.layers.convolutional.Conv2D at 0x23bcf565d88>"
      ]
     },
     "execution_count": 8,
     "metadata": {},
     "output_type": "execute_result"
    }
   ],
   "source": [
    "conv_layer_1 = test_model.get_layer('conv2d')\n",
    "conv_layer_1"
   ]
  },
  {
   "cell_type": "code",
   "execution_count": 9,
   "id": "719c2ea5",
   "metadata": {
    "ExecuteTime": {
     "end_time": "2021-12-09T07:15:17.605977Z",
     "start_time": "2021-12-09T07:15:17.600979Z"
    }
   },
   "outputs": [
    {
     "data": {
      "text/plain": [
       "<tensorflow.python.keras.layers.pooling.MaxPooling2D at 0x23bd68aac48>"
      ]
     },
     "execution_count": 9,
     "metadata": {},
     "output_type": "execute_result"
    }
   ],
   "source": [
    "max_pooling2d_1 = test_model.get_layer('max_pooling2d_1')\n",
    "max_pooling2d_1"
   ]
  },
  {
   "cell_type": "code",
   "execution_count": 10,
   "id": "7261efb5",
   "metadata": {
    "ExecuteTime": {
     "end_time": "2021-12-09T07:15:25.760572Z",
     "start_time": "2021-12-09T07:15:25.744619Z"
    }
   },
   "outputs": [
    {
     "data": {
      "text/plain": [
       "(list, 8)"
      ]
     },
     "execution_count": 10,
     "metadata": {},
     "output_type": "execute_result"
    }
   ],
   "source": [
    "model_params = test_model.weights\n",
    "type(model_params), len(model_params)"
   ]
  },
  {
   "cell_type": "code",
   "execution_count": 11,
   "id": "006bdd83",
   "metadata": {
    "ExecuteTime": {
     "end_time": "2021-12-09T07:15:31.326411Z",
     "start_time": "2021-12-09T07:15:31.312636Z"
    }
   },
   "outputs": [
    {
     "data": {
      "text/plain": [
       "(list, 2)"
      ]
     },
     "execution_count": 11,
     "metadata": {},
     "output_type": "execute_result"
    }
   ],
   "source": [
    "param = conv_layer_1.weights\n",
    "\n",
    "type(param), len(param) "
   ]
  },
  {
   "cell_type": "code",
   "execution_count": 12,
   "id": "616a4cc3",
   "metadata": {
    "ExecuteTime": {
     "end_time": "2021-12-09T07:15:38.867748Z",
     "start_time": "2021-12-09T07:15:38.852129Z"
    }
   },
   "outputs": [
    {
     "data": {
      "text/plain": [
       "TensorShape([3, 3, 1, 32])"
      ]
     },
     "execution_count": 12,
     "metadata": {},
     "output_type": "execute_result"
    }
   ],
   "source": [
    "# weight\n",
    "param[0].shape "
   ]
  },
  {
   "cell_type": "code",
   "execution_count": 13,
   "id": "ca3fbe59",
   "metadata": {
    "ExecuteTime": {
     "end_time": "2021-12-09T07:15:44.907355Z",
     "start_time": "2021-12-09T07:15:44.896386Z"
    }
   },
   "outputs": [
    {
     "data": {
      "text/plain": [
       "TensorShape([32])"
      ]
     },
     "execution_count": 13,
     "metadata": {},
     "output_type": "execute_result"
    }
   ],
   "source": [
    "# bias\n",
    "param[1].shape "
   ]
  },
  {
   "cell_type": "code",
   "execution_count": 14,
   "id": "88c2bda8",
   "metadata": {
    "ExecuteTime": {
     "end_time": "2021-12-09T07:15:51.561823Z",
     "start_time": "2021-12-09T07:15:51.552849Z"
    }
   },
   "outputs": [
    {
     "data": {
      "text/plain": [
       "[]"
      ]
     },
     "execution_count": 14,
     "metadata": {},
     "output_type": "execute_result"
    }
   ],
   "source": [
    "# pooling은 weights가 없음.\n",
    "max_pooling2d_1.weights"
   ]
  },
  {
   "cell_type": "code",
   "execution_count": 15,
   "id": "df271cf7",
   "metadata": {
    "ExecuteTime": {
     "end_time": "2021-12-09T07:15:56.135531Z",
     "start_time": "2021-12-09T07:15:56.128552Z"
    }
   },
   "outputs": [
    {
     "name": "stdout",
     "output_type": "stream",
     "text": [
      "True\n",
      "False\n"
     ]
    }
   ],
   "source": [
    "print(conv_layer_1.trainable)\n",
    "conv_layer_1.trainable = False\n",
    "print(conv_layer_1.trainable) "
   ]
  },
  {
   "cell_type": "code",
   "execution_count": 16,
   "id": "340a10b2",
   "metadata": {
    "ExecuteTime": {
     "end_time": "2021-12-09T07:16:07.785507Z",
     "start_time": "2021-12-09T07:16:07.776561Z"
    }
   },
   "outputs": [
    {
     "name": "stdout",
     "output_type": "stream",
     "text": [
      "Model: \"sequential\"\n",
      "_________________________________________________________________\n",
      "Layer (type)                 Output Shape              Param #   \n",
      "=================================================================\n",
      "conv2d (Conv2D)              (None, 28, 28, 32)        320       \n",
      "_________________________________________________________________\n",
      "max_pooling2d (MaxPooling2D) (None, 14, 14, 32)        0         \n",
      "_________________________________________________________________\n",
      "conv2d_1 (Conv2D)            (None, 14, 14, 32)        9248      \n",
      "_________________________________________________________________\n",
      "max_pooling2d_1 (MaxPooling2 (None, 7, 7, 32)          0         \n",
      "_________________________________________________________________\n",
      "flatten (Flatten)            (None, 1568)              0         \n",
      "_________________________________________________________________\n",
      "dense (Dense)                (None, 128)               200832    \n",
      "_________________________________________________________________\n",
      "output (Dense)               (None, 1)                 129       \n",
      "=================================================================\n",
      "Total params: 210,529\n",
      "Trainable params: 210,209\n",
      "Non-trainable params: 320\n",
      "_________________________________________________________________\n"
     ]
    }
   ],
   "source": [
    "test_model.summary()"
   ]
  },
  {
   "cell_type": "markdown",
   "id": "dbc4956c",
   "metadata": {},
   "source": [
    "# fine tuning example"
   ]
  },
  {
   "cell_type": "code",
   "execution_count": 17,
   "id": "635bed3b",
   "metadata": {
    "ExecuteTime": {
     "end_time": "2021-12-09T07:33:52.431565Z",
     "start_time": "2021-12-09T07:33:52.417604Z"
    }
   },
   "outputs": [],
   "source": [
    "import tensorflow as tf\n",
    "from tensorflow import keras\n",
    "from tensorflow.keras import layers\n",
    "from tensorflow.keras import applications\n",
    "from tensorflow.keras.preprocessing.image import ImageDataGenerator, load_img, img_to_array\n",
    "\n",
    "import numpy as np\n",
    "\n",
    "np.random.seed(0)\n",
    "tf.random.set_seed(0)"
   ]
  },
  {
   "cell_type": "code",
   "execution_count": 18,
   "id": "01bc9133",
   "metadata": {
    "ExecuteTime": {
     "end_time": "2021-12-09T07:33:55.058701Z",
     "start_time": "2021-12-09T07:33:55.040750Z"
    }
   },
   "outputs": [],
   "source": [
    "LEARNING_RATE = 0.001\n",
    "N_EPOCHS = 20\n",
    "N_BATCHS = 100\n",
    "\n",
    "IMAGE_SIZE = 224"
   ]
  },
  {
   "cell_type": "code",
   "execution_count": 19,
   "id": "875b6b8e",
   "metadata": {
    "ExecuteTime": {
     "end_time": "2021-12-09T07:34:08.692622Z",
     "start_time": "2021-12-09T07:34:08.673676Z"
    }
   },
   "outputs": [],
   "source": [
    "def create_model2():\n",
    "    \"\"\"\n",
    "    VGG16에서 block5_conv2, block5_conv3 은 학습 가능하도록 fine tuning을 한다.\n",
    "    \"\"\"\n",
    "    model = keras.Sequential()\n",
    "    conv_base = applications.VGG16(include_top=False, input_shape=(IMAGE_SIZE, IMAGE_SIZE, 3))\n",
    "\n",
    "    is_trainable = False\n",
    "    for layer in conv_base.layers:\n",
    "        if layer.name == 'block5_conv2':\n",
    "            is_trainable = True\n",
    "        layer.trainable = is_trainable\n",
    "    \n",
    "    model.add(conv_base)\n",
    "    model.add(layers.GlobalAveragePooling2D())\n",
    "    model.add(keras.layers.Dense(256, activation='relu'))\n",
    "    model.add(layers.Dense(units=1, activation='sigmoid'))\n",
    "\n",
    "    return model"
   ]
  },
  {
   "cell_type": "code",
   "execution_count": 20,
   "id": "cd56f791",
   "metadata": {
    "ExecuteTime": {
     "end_time": "2021-12-09T07:34:15.207469Z",
     "start_time": "2021-12-09T07:34:14.752722Z"
    }
   },
   "outputs": [],
   "source": [
    "model2 = create_model2()\n",
    "model2.compile(optimizer=keras.optimizers.Adam(LEARNING_RATE), \n",
    "                loss='binary_crossentropy', \n",
    "                metrics=['accuracy'])"
   ]
  },
  {
   "cell_type": "code",
   "execution_count": 21,
   "id": "8eb0f9c6",
   "metadata": {
    "ExecuteTime": {
     "end_time": "2021-12-09T07:34:18.728615Z",
     "start_time": "2021-12-09T07:34:18.721636Z"
    }
   },
   "outputs": [
    {
     "name": "stdout",
     "output_type": "stream",
     "text": [
      "Model: \"sequential_1\"\n",
      "_________________________________________________________________\n",
      "Layer (type)                 Output Shape              Param #   \n",
      "=================================================================\n",
      "vgg16 (Model)                (None, 7, 7, 512)         14714688  \n",
      "_________________________________________________________________\n",
      "global_average_pooling2d (Gl (None, 512)               0         \n",
      "_________________________________________________________________\n",
      "dense_1 (Dense)              (None, 256)               131328    \n",
      "_________________________________________________________________\n",
      "dense_2 (Dense)              (None, 1)                 257       \n",
      "=================================================================\n",
      "Total params: 14,846,273\n",
      "Trainable params: 4,851,201\n",
      "Non-trainable params: 9,995,072\n",
      "_________________________________________________________________\n"
     ]
    }
   ],
   "source": [
    "model2.summary()"
   ]
  },
  {
   "cell_type": "code",
   "execution_count": 22,
   "id": "67d7bc51",
   "metadata": {
    "ExecuteTime": {
     "end_time": "2021-12-09T07:39:25.329635Z",
     "start_time": "2021-12-09T07:39:25.314013Z"
    }
   },
   "outputs": [],
   "source": [
    "save_path = 'path'\n",
    "\n",
    "mc_callback = keras.callbacks.ModelCheckpoint(filepath=save_path, \n",
    "                                              save_best_only=True, \n",
    "                                              monitor='val_loss', \n",
    "                                              verbose=2)"
   ]
  },
  {
   "cell_type": "code",
   "execution_count": 30,
   "id": "19758867",
   "metadata": {
    "ExecuteTime": {
     "end_time": "2021-12-09T08:37:01.291602Z",
     "start_time": "2021-12-09T08:27:59.351363Z"
    }
   },
   "outputs": [
    {
     "name": "stdout",
     "output_type": "stream",
     "text": [
      "WARNING:tensorflow:sample_weight modes were coerced from\n",
      "  ...\n",
      "    to  \n",
      "  ['...']\n"
     ]
    },
    {
     "name": "stderr",
     "output_type": "stream",
     "text": [
      "WARNING:tensorflow:sample_weight modes were coerced from\n",
      "  ...\n",
      "    to  \n",
      "  ['...']\n"
     ]
    },
    {
     "name": "stdout",
     "output_type": "stream",
     "text": [
      "WARNING:tensorflow:sample_weight modes were coerced from\n",
      "  ...\n",
      "    to  \n",
      "  ['...']\n"
     ]
    },
    {
     "name": "stderr",
     "output_type": "stream",
     "text": [
      "WARNING:tensorflow:sample_weight modes were coerced from\n",
      "  ...\n",
      "    to  \n",
      "  ['...']\n"
     ]
    },
    {
     "name": "stdout",
     "output_type": "stream",
     "text": [
      "Train for 20 steps, validate for 10 steps\n",
      "Epoch 1/20\n",
      "19/20 [===========================>..] - ETA: 0s - loss: 0.0574 - accuracy: 0.9784\n",
      "Epoch 00001: val_loss did not improve from 0.11412\n",
      "20/20 [==============================] - 27s 1s/step - loss: 0.0556 - accuracy: 0.9795 - val_loss: 0.1551 - val_accuracy: 0.9610\n",
      "Epoch 2/20\n",
      "19/20 [===========================>..] - ETA: 0s - loss: 0.0320 - accuracy: 0.9868\n",
      "Epoch 00002: val_loss did not improve from 0.11412\n",
      "20/20 [==============================] - 27s 1s/step - loss: 0.0312 - accuracy: 0.9875 - val_loss: 0.1492 - val_accuracy: 0.9710\n",
      "Epoch 3/20\n",
      "19/20 [===========================>..] - ETA: 0s - loss: 0.0510 - accuracy: 0.9789\n",
      "Epoch 00003: val_loss did not improve from 0.11412\n",
      "20/20 [==============================] - 27s 1s/step - loss: 0.0495 - accuracy: 0.9795 - val_loss: 0.2759 - val_accuracy: 0.9440\n",
      "Epoch 4/20\n",
      "19/20 [===========================>..] - ETA: 0s - loss: 0.0613 - accuracy: 0.9774\n",
      "Epoch 00004: val_loss did not improve from 0.11412\n",
      "20/20 [==============================] - 27s 1s/step - loss: 0.0608 - accuracy: 0.9775 - val_loss: 0.2223 - val_accuracy: 0.9570\n",
      "Epoch 5/20\n",
      "19/20 [===========================>..] - ETA: 0s - loss: 0.0507 - accuracy: 0.9800\n",
      "Epoch 00005: val_loss did not improve from 0.11412\n",
      "20/20 [==============================] - 29s 1s/step - loss: 0.0493 - accuracy: 0.9805 - val_loss: 0.1461 - val_accuracy: 0.9730\n",
      "Epoch 6/20\n",
      "19/20 [===========================>..] - ETA: 0s - loss: 0.0431 - accuracy: 0.9832\n",
      "Epoch 00006: val_loss did not improve from 0.11412\n",
      "20/20 [==============================] - 27s 1s/step - loss: 0.0419 - accuracy: 0.9840 - val_loss: 0.1369 - val_accuracy: 0.9700\n",
      "Epoch 7/20\n",
      "19/20 [===========================>..] - ETA: 0s - loss: 0.0455 - accuracy: 0.9842\n",
      "Epoch 00007: val_loss did not improve from 0.11412\n",
      "20/20 [==============================] - 27s 1s/step - loss: 0.0445 - accuracy: 0.9840 - val_loss: 0.1619 - val_accuracy: 0.9700\n",
      "Epoch 8/20\n",
      "19/20 [===========================>..] - ETA: 0s - loss: 0.0685 - accuracy: 0.9753\n",
      "Epoch 00008: val_loss did not improve from 0.11412\n",
      "20/20 [==============================] - 27s 1s/step - loss: 0.0668 - accuracy: 0.9760 - val_loss: 0.1352 - val_accuracy: 0.9680\n",
      "Epoch 9/20\n",
      "19/20 [===========================>..] - ETA: 0s - loss: 0.0420 - accuracy: 0.9826\n",
      "Epoch 00009: val_loss did not improve from 0.11412\n",
      "20/20 [==============================] - 28s 1s/step - loss: 0.0413 - accuracy: 0.9830 - val_loss: 0.1563 - val_accuracy: 0.9710\n",
      "Epoch 10/20\n",
      "19/20 [===========================>..] - ETA: 0s - loss: 0.0209 - accuracy: 0.9926\n",
      "Epoch 00010: val_loss did not improve from 0.11412\n",
      "20/20 [==============================] - 27s 1s/step - loss: 0.0246 - accuracy: 0.9915 - val_loss: 0.2471 - val_accuracy: 0.9620\n",
      "Epoch 11/20\n",
      "19/20 [===========================>..] - ETA: 0s - loss: 0.0220 - accuracy: 0.9932\n",
      "Epoch 00011: val_loss did not improve from 0.11412\n",
      "20/20 [==============================] - 27s 1s/step - loss: 0.0231 - accuracy: 0.9920 - val_loss: 0.1657 - val_accuracy: 0.9700\n",
      "Epoch 12/20\n",
      "19/20 [===========================>..] - ETA: 0s - loss: 0.0338 - accuracy: 0.9884\n",
      "Epoch 00012: val_loss did not improve from 0.11412\n",
      "20/20 [==============================] - 27s 1s/step - loss: 0.0325 - accuracy: 0.9890 - val_loss: 0.1736 - val_accuracy: 0.9690\n",
      "Epoch 13/20\n",
      "19/20 [===========================>..] - ETA: 0s - loss: 0.0192 - accuracy: 0.9937\n",
      "Epoch 00013: val_loss did not improve from 0.11412\n",
      "20/20 [==============================] - 27s 1s/step - loss: 0.0221 - accuracy: 0.9925 - val_loss: 0.1998 - val_accuracy: 0.9710\n",
      "Epoch 14/20\n",
      "19/20 [===========================>..] - ETA: 0s - loss: 0.0263 - accuracy: 0.9889\n",
      "Epoch 00014: val_loss did not improve from 0.11412\n",
      "20/20 [==============================] - 28s 1s/step - loss: 0.0256 - accuracy: 0.9895 - val_loss: 0.1726 - val_accuracy: 0.9730\n",
      "Epoch 15/20\n",
      "19/20 [===========================>..] - ETA: 0s - loss: 0.0197 - accuracy: 0.9947\n",
      "Epoch 00015: val_loss did not improve from 0.11412\n",
      "20/20 [==============================] - 27s 1s/step - loss: 0.0197 - accuracy: 0.9945 - val_loss: 0.2484 - val_accuracy: 0.9590\n",
      "Epoch 16/20\n",
      "19/20 [===========================>..] - ETA: 0s - loss: 0.0182 - accuracy: 0.9916\n",
      "Epoch 00016: val_loss did not improve from 0.11412\n",
      "20/20 [==============================] - 27s 1s/step - loss: 0.0176 - accuracy: 0.9920 - val_loss: 0.2003 - val_accuracy: 0.9680\n",
      "Epoch 17/20\n",
      "19/20 [===========================>..] - ETA: 0s - loss: 0.0180 - accuracy: 0.9932\n",
      "Epoch 00017: val_loss did not improve from 0.11412\n",
      "20/20 [==============================] - 27s 1s/step - loss: 0.0178 - accuracy: 0.9930 - val_loss: 0.2311 - val_accuracy: 0.9660\n",
      "Epoch 18/20\n",
      "19/20 [===========================>..] - ETA: 0s - loss: 0.0143 - accuracy: 0.9942\n",
      "Epoch 00018: val_loss did not improve from 0.11412\n",
      "20/20 [==============================] - 27s 1s/step - loss: 0.0156 - accuracy: 0.9935 - val_loss: 0.1872 - val_accuracy: 0.9720\n",
      "Epoch 19/20\n",
      "19/20 [===========================>..] - ETA: 0s - loss: 0.0300 - accuracy: 0.9884\n",
      "Epoch 00019: val_loss did not improve from 0.11412\n",
      "20/20 [==============================] - 27s 1s/step - loss: 0.0289 - accuracy: 0.9890 - val_loss: 0.2222 - val_accuracy: 0.9630\n",
      "Epoch 20/20\n",
      "19/20 [===========================>..] - ETA: 0s - loss: 0.0499 - accuracy: 0.9795\n",
      "Epoch 00020: val_loss did not improve from 0.11412\n",
      "20/20 [==============================] - 27s 1s/step - loss: 0.0516 - accuracy: 0.9790 - val_loss: 0.1678 - val_accuracy: 0.9690\n"
     ]
    }
   ],
   "source": [
    "hist = model2.fit(train_iter, epochs=N_EPOCHS, steps_per_epoch=len(train_iter), validation_data=val_iter, validation_steps=len(val_iter), callbacks=[mc_callback])"
   ]
  },
  {
   "cell_type": "markdown",
   "id": "b55c19af",
   "metadata": {},
   "source": [
    "### 트러블 슈팅\n",
    "**WARNING: AutoGraph could not transform <function canonicalize_signatures \\<locals>.signature_wrapper at 0x0000023C87746798> and will run it as-is.**\n",
    "\n",
    "- 해당 오류로 실행이 안되거나 결과에 이상이 생기진 않았지만 학습과정에서 계속해서 경고 문구가 떠서 이유를 찾아봄\n",
    "1.  tensorflow 2.0대로 넘어오면서 keras와 AutoGraph의 버전 충돌 때문에 발생한다는 글을 발견 \n",
    "    - 해결 방안으로 gast를 설치할 것을 제시 \n",
    "    - 하지만 이미 설치되어있음에도 해당 에러 메세지가 출력되었기에 기각.\n",
    "2. @tf.function 데코레이터 사용시에도 같은 오류가 발생한다는 글 발견\n",
    "    - 해당 블로그에서 발견한 원인은 백슬레시(\\) 문자 사용 때문\n",
    "    - 실제로 코드 파라미터를 줄바꿈없이 한줄로 작성하자 더이상 에러코드 출력 x"
   ]
  },
  {
   "cell_type": "code",
   "execution_count": 28,
   "id": "7307018c",
   "metadata": {
    "ExecuteTime": {
     "end_time": "2021-12-09T08:03:30.149132Z",
     "start_time": "2021-12-09T08:03:29.631571Z"
    }
   },
   "outputs": [
    {
     "data": {
      "image/png": "[encoded data removed]",
      "text/plain": [
       "<Figure size 504x432 with 1 Axes>"
      ]
     },
     "metadata": {
      "needs_background": "light"
     },
     "output_type": "display_data"
    }
   ],
   "source": [
    "import matplotlib.pyplot as plt\n",
    "\n",
    "plt.figure(figsize=(7,6))\n",
    "plt.plot(range(1, N_EPOCHS+1), hist.history['loss'], label='train loss')\n",
    "plt.plot(range(1, N_EPOCHS+1), hist.history['val_loss'], label='validation loss')\n",
    "\n",
    "plt.legend()\n",
    "plt.show()"
   ]
  },
  {
   "cell_type": "code",
   "execution_count": 29,
   "id": "46f90044",
   "metadata": {
    "ExecuteTime": {
     "end_time": "2021-12-09T08:03:41.329498Z",
     "start_time": "2021-12-09T08:03:32.800230Z"
    }
   },
   "outputs": [
    {
     "name": "stdout",
     "output_type": "stream",
     "text": [
      "WARNING:tensorflow:sample_weight modes were coerced from\n",
      "  ...\n",
      "    to  \n",
      "  ['...']\n"
     ]
    },
    {
     "name": "stderr",
     "output_type": "stream",
     "text": [
      "WARNING:tensorflow:sample_weight modes were coerced from\n",
      "  ...\n",
      "    to  \n",
      "  ['...']\n"
     ]
    },
    {
     "name": "stdout",
     "output_type": "stream",
     "text": [
      "10/10 [==============================] - 8s 818ms/step - loss: 0.1101 - accuracy: 0.9730\n"
     ]
    },
    {
     "data": {
      "text/plain": [
       "[0.11005680076777935, 0.973]"
      ]
     },
     "execution_count": 29,
     "metadata": {},
     "output_type": "execute_result"
    }
   ],
   "source": [
    "model2.evaluate(test_iter)"
   ]
  },
  {
   "cell_type": "code",
   "execution_count": null,
   "id": "ad320ac6",
   "metadata": {},
   "outputs": [],
   "source": []
  }
 ],
 "metadata": {
  "hide_input": false,
  "kernelspec": {
   "display_name": "Python 3 (ipykernel)",
   "language": "python",
   "name": "python3"
  },
  "language_info": {
   "codemirror_mode": {
    "name": "ipython",
    "version": 3
   },
   "file_extension": ".py",
   "mimetype": "text/x-python",
   "name": "python",
   "nbconvert_exporter": "python",
   "pygments_lexer": "ipython3",
   "version": "3.7.11"
  },
  "toc": {
   "base_numbering": 1,
   "nav_menu": {},
   "number_sections": true,
   "sideBar": true,
   "skip_h1_title": false,
   "title_cell": "Table of Contents",
   "title_sidebar": "Contents",
   "toc_cell": false,
   "toc_position": {},
   "toc_section_display": true,
   "toc_window_display": false
  },
  "varInspector": {
   "cols": {
    "lenName": 16,
    "lenType": 16,
    "lenVar": 40
   },
   "kernels_config": {
    "python": {
     "delete_cmd_postfix": "",
     "delete_cmd_prefix": "del ",
     "library": "var_list.py",
     "varRefreshCmd": "print(var_dic_list())"
    },
    "r": {
     "delete_cmd_postfix": ") ",
     "delete_cmd_prefix": "rm(",
     "library": "var_list.r",
     "varRefreshCmd": "cat(var_dic_list()) "
    }
   },
   "types_to_exclude": [
    "module",
    "function",
    "builtin_function_or_method",
    "instance",
    "_Feature"
   ],
   "window_display": false
  }
 },
 "nbformat": 4,
 "nbformat_minor": 5
}
